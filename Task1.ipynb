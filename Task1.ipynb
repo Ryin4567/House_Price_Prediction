{
 "cells": [
  {
   "cell_type": "markdown",
   "id": "27c9ec65",
   "metadata": {},
   "source": [
    "# House Price Prediction\n",
    "\n",
    "### Importing Libraries and Dataset"
   ]
  },
  {
   "cell_type": "code",
   "execution_count": 1,
   "id": "eabdb51f",
   "metadata": {},
   "outputs": [
    {
     "name": "stdout",
     "output_type": "stream",
     "text": [
      "Shape of df_train:  (1460, 81)\n",
      "Shape of df_test:  (1459, 80)\n"
     ]
    }
   ],
   "source": [
    "import pandas as pd\n",
    "import matplotlib.pyplot as plt\n",
    "import seaborn as sns\n",
    "import numpy as np\n",
    "import calendar\n",
    "from pandas.api.types import CategoricalDtype\n",
    "\n",
    "df_train = pd.read_csv(r\"C:\\Users\\DELL\\Desktop\\house_price_prediction\\data\\train.csv\")\n",
    "df_test=pd.read_csv(r\"C:\\Users\\DELL\\Desktop\\house_price_prediction\\data\\test.csv\")\n",
    "\n",
    "print(\"Shape of df_train: \",df_train.shape)\n",
    "print(\"Shape of df_test: \",df_test.shape)"
   ]
  },
  {
   "cell_type": "code",
   "execution_count": 2,
   "id": "4b0ea697",
   "metadata": {},
   "outputs": [
    {
     "data": {
      "text/html": [
       "<div>\n",
       "<style scoped>\n",
       "    .dataframe tbody tr th:only-of-type {\n",
       "        vertical-align: middle;\n",
       "    }\n",
       "\n",
       "    .dataframe tbody tr th {\n",
       "        vertical-align: top;\n",
       "    }\n",
       "\n",
       "    .dataframe thead th {\n",
       "        text-align: right;\n",
       "    }\n",
       "</style>\n",
       "<table border=\"1\" class=\"dataframe\">\n",
       "  <thead>\n",
       "    <tr style=\"text-align: right;\">\n",
       "      <th></th>\n",
       "      <th>Id</th>\n",
       "      <th>MSSubClass</th>\n",
       "      <th>MSZoning</th>\n",
       "      <th>LotFrontage</th>\n",
       "      <th>LotArea</th>\n",
       "      <th>Street</th>\n",
       "      <th>Alley</th>\n",
       "      <th>LotShape</th>\n",
       "      <th>LandContour</th>\n",
       "      <th>Utilities</th>\n",
       "      <th>...</th>\n",
       "      <th>PoolArea</th>\n",
       "      <th>PoolQC</th>\n",
       "      <th>Fence</th>\n",
       "      <th>MiscFeature</th>\n",
       "      <th>MiscVal</th>\n",
       "      <th>MoSold</th>\n",
       "      <th>YrSold</th>\n",
       "      <th>SaleType</th>\n",
       "      <th>SaleCondition</th>\n",
       "      <th>SalePrice</th>\n",
       "    </tr>\n",
       "  </thead>\n",
       "  <tbody>\n",
       "    <tr>\n",
       "      <th>0</th>\n",
       "      <td>1</td>\n",
       "      <td>60</td>\n",
       "      <td>RL</td>\n",
       "      <td>65.0</td>\n",
       "      <td>8450</td>\n",
       "      <td>Pave</td>\n",
       "      <td>NaN</td>\n",
       "      <td>Reg</td>\n",
       "      <td>Lvl</td>\n",
       "      <td>AllPub</td>\n",
       "      <td>...</td>\n",
       "      <td>0</td>\n",
       "      <td>NaN</td>\n",
       "      <td>NaN</td>\n",
       "      <td>NaN</td>\n",
       "      <td>0</td>\n",
       "      <td>2</td>\n",
       "      <td>2008</td>\n",
       "      <td>WD</td>\n",
       "      <td>Normal</td>\n",
       "      <td>208500</td>\n",
       "    </tr>\n",
       "    <tr>\n",
       "      <th>1</th>\n",
       "      <td>2</td>\n",
       "      <td>20</td>\n",
       "      <td>RL</td>\n",
       "      <td>80.0</td>\n",
       "      <td>9600</td>\n",
       "      <td>Pave</td>\n",
       "      <td>NaN</td>\n",
       "      <td>Reg</td>\n",
       "      <td>Lvl</td>\n",
       "      <td>AllPub</td>\n",
       "      <td>...</td>\n",
       "      <td>0</td>\n",
       "      <td>NaN</td>\n",
       "      <td>NaN</td>\n",
       "      <td>NaN</td>\n",
       "      <td>0</td>\n",
       "      <td>5</td>\n",
       "      <td>2007</td>\n",
       "      <td>WD</td>\n",
       "      <td>Normal</td>\n",
       "      <td>181500</td>\n",
       "    </tr>\n",
       "    <tr>\n",
       "      <th>2</th>\n",
       "      <td>3</td>\n",
       "      <td>60</td>\n",
       "      <td>RL</td>\n",
       "      <td>68.0</td>\n",
       "      <td>11250</td>\n",
       "      <td>Pave</td>\n",
       "      <td>NaN</td>\n",
       "      <td>IR1</td>\n",
       "      <td>Lvl</td>\n",
       "      <td>AllPub</td>\n",
       "      <td>...</td>\n",
       "      <td>0</td>\n",
       "      <td>NaN</td>\n",
       "      <td>NaN</td>\n",
       "      <td>NaN</td>\n",
       "      <td>0</td>\n",
       "      <td>9</td>\n",
       "      <td>2008</td>\n",
       "      <td>WD</td>\n",
       "      <td>Normal</td>\n",
       "      <td>223500</td>\n",
       "    </tr>\n",
       "    <tr>\n",
       "      <th>3</th>\n",
       "      <td>4</td>\n",
       "      <td>70</td>\n",
       "      <td>RL</td>\n",
       "      <td>60.0</td>\n",
       "      <td>9550</td>\n",
       "      <td>Pave</td>\n",
       "      <td>NaN</td>\n",
       "      <td>IR1</td>\n",
       "      <td>Lvl</td>\n",
       "      <td>AllPub</td>\n",
       "      <td>...</td>\n",
       "      <td>0</td>\n",
       "      <td>NaN</td>\n",
       "      <td>NaN</td>\n",
       "      <td>NaN</td>\n",
       "      <td>0</td>\n",
       "      <td>2</td>\n",
       "      <td>2006</td>\n",
       "      <td>WD</td>\n",
       "      <td>Abnorml</td>\n",
       "      <td>140000</td>\n",
       "    </tr>\n",
       "    <tr>\n",
       "      <th>4</th>\n",
       "      <td>5</td>\n",
       "      <td>60</td>\n",
       "      <td>RL</td>\n",
       "      <td>84.0</td>\n",
       "      <td>14260</td>\n",
       "      <td>Pave</td>\n",
       "      <td>NaN</td>\n",
       "      <td>IR1</td>\n",
       "      <td>Lvl</td>\n",
       "      <td>AllPub</td>\n",
       "      <td>...</td>\n",
       "      <td>0</td>\n",
       "      <td>NaN</td>\n",
       "      <td>NaN</td>\n",
       "      <td>NaN</td>\n",
       "      <td>0</td>\n",
       "      <td>12</td>\n",
       "      <td>2008</td>\n",
       "      <td>WD</td>\n",
       "      <td>Normal</td>\n",
       "      <td>250000</td>\n",
       "    </tr>\n",
       "  </tbody>\n",
       "</table>\n",
       "<p>5 rows × 81 columns</p>\n",
       "</div>"
      ],
      "text/plain": [
       "   Id  MSSubClass MSZoning  LotFrontage  LotArea Street Alley LotShape  \\\n",
       "0   1          60       RL         65.0     8450   Pave   NaN      Reg   \n",
       "1   2          20       RL         80.0     9600   Pave   NaN      Reg   \n",
       "2   3          60       RL         68.0    11250   Pave   NaN      IR1   \n",
       "3   4          70       RL         60.0     9550   Pave   NaN      IR1   \n",
       "4   5          60       RL         84.0    14260   Pave   NaN      IR1   \n",
       "\n",
       "  LandContour Utilities  ... PoolArea PoolQC Fence MiscFeature MiscVal MoSold  \\\n",
       "0         Lvl    AllPub  ...        0    NaN   NaN         NaN       0      2   \n",
       "1         Lvl    AllPub  ...        0    NaN   NaN         NaN       0      5   \n",
       "2         Lvl    AllPub  ...        0    NaN   NaN         NaN       0      9   \n",
       "3         Lvl    AllPub  ...        0    NaN   NaN         NaN       0      2   \n",
       "4         Lvl    AllPub  ...        0    NaN   NaN         NaN       0     12   \n",
       "\n",
       "  YrSold  SaleType  SaleCondition  SalePrice  \n",
       "0   2008        WD         Normal     208500  \n",
       "1   2007        WD         Normal     181500  \n",
       "2   2008        WD         Normal     223500  \n",
       "3   2006        WD        Abnorml     140000  \n",
       "4   2008        WD         Normal     250000  \n",
       "\n",
       "[5 rows x 81 columns]"
      ]
     },
     "execution_count": 2,
     "metadata": {},
     "output_type": "execute_result"
    }
   ],
   "source": [
    "df_train.head()"
   ]
  },
  {
   "cell_type": "code",
   "execution_count": 3,
   "id": "ffe6c909",
   "metadata": {},
   "outputs": [
    {
     "data": {
      "text/html": [
       "<div>\n",
       "<style scoped>\n",
       "    .dataframe tbody tr th:only-of-type {\n",
       "        vertical-align: middle;\n",
       "    }\n",
       "\n",
       "    .dataframe tbody tr th {\n",
       "        vertical-align: top;\n",
       "    }\n",
       "\n",
       "    .dataframe thead th {\n",
       "        text-align: right;\n",
       "    }\n",
       "</style>\n",
       "<table border=\"1\" class=\"dataframe\">\n",
       "  <thead>\n",
       "    <tr style=\"text-align: right;\">\n",
       "      <th></th>\n",
       "      <th>Id</th>\n",
       "      <th>MSSubClass</th>\n",
       "      <th>MSZoning</th>\n",
       "      <th>LotFrontage</th>\n",
       "      <th>LotArea</th>\n",
       "      <th>Street</th>\n",
       "      <th>Alley</th>\n",
       "      <th>LotShape</th>\n",
       "      <th>LandContour</th>\n",
       "      <th>Utilities</th>\n",
       "      <th>...</th>\n",
       "      <th>ScreenPorch</th>\n",
       "      <th>PoolArea</th>\n",
       "      <th>PoolQC</th>\n",
       "      <th>Fence</th>\n",
       "      <th>MiscFeature</th>\n",
       "      <th>MiscVal</th>\n",
       "      <th>MoSold</th>\n",
       "      <th>YrSold</th>\n",
       "      <th>SaleType</th>\n",
       "      <th>SaleCondition</th>\n",
       "    </tr>\n",
       "  </thead>\n",
       "  <tbody>\n",
       "    <tr>\n",
       "      <th>0</th>\n",
       "      <td>1461</td>\n",
       "      <td>20</td>\n",
       "      <td>RH</td>\n",
       "      <td>80.0</td>\n",
       "      <td>11622</td>\n",
       "      <td>Pave</td>\n",
       "      <td>NaN</td>\n",
       "      <td>Reg</td>\n",
       "      <td>Lvl</td>\n",
       "      <td>AllPub</td>\n",
       "      <td>...</td>\n",
       "      <td>120</td>\n",
       "      <td>0</td>\n",
       "      <td>NaN</td>\n",
       "      <td>MnPrv</td>\n",
       "      <td>NaN</td>\n",
       "      <td>0</td>\n",
       "      <td>6</td>\n",
       "      <td>2010</td>\n",
       "      <td>WD</td>\n",
       "      <td>Normal</td>\n",
       "    </tr>\n",
       "    <tr>\n",
       "      <th>1</th>\n",
       "      <td>1462</td>\n",
       "      <td>20</td>\n",
       "      <td>RL</td>\n",
       "      <td>81.0</td>\n",
       "      <td>14267</td>\n",
       "      <td>Pave</td>\n",
       "      <td>NaN</td>\n",
       "      <td>IR1</td>\n",
       "      <td>Lvl</td>\n",
       "      <td>AllPub</td>\n",
       "      <td>...</td>\n",
       "      <td>0</td>\n",
       "      <td>0</td>\n",
       "      <td>NaN</td>\n",
       "      <td>NaN</td>\n",
       "      <td>Gar2</td>\n",
       "      <td>12500</td>\n",
       "      <td>6</td>\n",
       "      <td>2010</td>\n",
       "      <td>WD</td>\n",
       "      <td>Normal</td>\n",
       "    </tr>\n",
       "    <tr>\n",
       "      <th>2</th>\n",
       "      <td>1463</td>\n",
       "      <td>60</td>\n",
       "      <td>RL</td>\n",
       "      <td>74.0</td>\n",
       "      <td>13830</td>\n",
       "      <td>Pave</td>\n",
       "      <td>NaN</td>\n",
       "      <td>IR1</td>\n",
       "      <td>Lvl</td>\n",
       "      <td>AllPub</td>\n",
       "      <td>...</td>\n",
       "      <td>0</td>\n",
       "      <td>0</td>\n",
       "      <td>NaN</td>\n",
       "      <td>MnPrv</td>\n",
       "      <td>NaN</td>\n",
       "      <td>0</td>\n",
       "      <td>3</td>\n",
       "      <td>2010</td>\n",
       "      <td>WD</td>\n",
       "      <td>Normal</td>\n",
       "    </tr>\n",
       "    <tr>\n",
       "      <th>3</th>\n",
       "      <td>1464</td>\n",
       "      <td>60</td>\n",
       "      <td>RL</td>\n",
       "      <td>78.0</td>\n",
       "      <td>9978</td>\n",
       "      <td>Pave</td>\n",
       "      <td>NaN</td>\n",
       "      <td>IR1</td>\n",
       "      <td>Lvl</td>\n",
       "      <td>AllPub</td>\n",
       "      <td>...</td>\n",
       "      <td>0</td>\n",
       "      <td>0</td>\n",
       "      <td>NaN</td>\n",
       "      <td>NaN</td>\n",
       "      <td>NaN</td>\n",
       "      <td>0</td>\n",
       "      <td>6</td>\n",
       "      <td>2010</td>\n",
       "      <td>WD</td>\n",
       "      <td>Normal</td>\n",
       "    </tr>\n",
       "    <tr>\n",
       "      <th>4</th>\n",
       "      <td>1465</td>\n",
       "      <td>120</td>\n",
       "      <td>RL</td>\n",
       "      <td>43.0</td>\n",
       "      <td>5005</td>\n",
       "      <td>Pave</td>\n",
       "      <td>NaN</td>\n",
       "      <td>IR1</td>\n",
       "      <td>HLS</td>\n",
       "      <td>AllPub</td>\n",
       "      <td>...</td>\n",
       "      <td>144</td>\n",
       "      <td>0</td>\n",
       "      <td>NaN</td>\n",
       "      <td>NaN</td>\n",
       "      <td>NaN</td>\n",
       "      <td>0</td>\n",
       "      <td>1</td>\n",
       "      <td>2010</td>\n",
       "      <td>WD</td>\n",
       "      <td>Normal</td>\n",
       "    </tr>\n",
       "  </tbody>\n",
       "</table>\n",
       "<p>5 rows × 80 columns</p>\n",
       "</div>"
      ],
      "text/plain": [
       "     Id  MSSubClass MSZoning  LotFrontage  LotArea Street Alley LotShape  \\\n",
       "0  1461          20       RH         80.0    11622   Pave   NaN      Reg   \n",
       "1  1462          20       RL         81.0    14267   Pave   NaN      IR1   \n",
       "2  1463          60       RL         74.0    13830   Pave   NaN      IR1   \n",
       "3  1464          60       RL         78.0     9978   Pave   NaN      IR1   \n",
       "4  1465         120       RL         43.0     5005   Pave   NaN      IR1   \n",
       "\n",
       "  LandContour Utilities  ... ScreenPorch PoolArea PoolQC  Fence MiscFeature  \\\n",
       "0         Lvl    AllPub  ...         120        0    NaN  MnPrv         NaN   \n",
       "1         Lvl    AllPub  ...           0        0    NaN    NaN        Gar2   \n",
       "2         Lvl    AllPub  ...           0        0    NaN  MnPrv         NaN   \n",
       "3         Lvl    AllPub  ...           0        0    NaN    NaN         NaN   \n",
       "4         HLS    AllPub  ...         144        0    NaN    NaN         NaN   \n",
       "\n",
       "  MiscVal MoSold  YrSold  SaleType  SaleCondition  \n",
       "0       0      6    2010        WD         Normal  \n",
       "1   12500      6    2010        WD         Normal  \n",
       "2       0      3    2010        WD         Normal  \n",
       "3       0      6    2010        WD         Normal  \n",
       "4       0      1    2010        WD         Normal  \n",
       "\n",
       "[5 rows x 80 columns]"
      ]
     },
     "execution_count": 3,
     "metadata": {},
     "output_type": "execute_result"
    }
   ],
   "source": [
    "df_test.head()"
   ]
  },
  {
   "cell_type": "markdown",
   "id": "b74681a2",
   "metadata": {},
   "source": [
    "### Data Integration"
   ]
  },
  {
   "cell_type": "code",
   "execution_count": 4,
   "id": "11597cb3",
   "metadata": {},
   "outputs": [
    {
     "name": "stdout",
     "output_type": "stream",
     "text": [
      "Shape of df :  (2919, 81)\n"
     ]
    }
   ],
   "source": [
    "df=pd.concat([df_train,df_test])\n",
    "print(\"Shape of df : \",df.shape)"
   ]
  },
  {
   "cell_type": "code",
   "execution_count": 5,
   "id": "edb33c00",
   "metadata": {},
   "outputs": [
    {
     "data": {
      "text/html": [
       "<div>\n",
       "<style scoped>\n",
       "    .dataframe tbody tr th:only-of-type {\n",
       "        vertical-align: middle;\n",
       "    }\n",
       "\n",
       "    .dataframe tbody tr th {\n",
       "        vertical-align: top;\n",
       "    }\n",
       "\n",
       "    .dataframe thead th {\n",
       "        text-align: right;\n",
       "    }\n",
       "</style>\n",
       "<table border=\"1\" class=\"dataframe\">\n",
       "  <thead>\n",
       "    <tr style=\"text-align: right;\">\n",
       "      <th></th>\n",
       "      <th>Id</th>\n",
       "      <th>MSSubClass</th>\n",
       "      <th>MSZoning</th>\n",
       "      <th>LotFrontage</th>\n",
       "      <th>LotArea</th>\n",
       "      <th>Street</th>\n",
       "      <th>Alley</th>\n",
       "      <th>LotShape</th>\n",
       "      <th>LandContour</th>\n",
       "      <th>Utilities</th>\n",
       "      <th>...</th>\n",
       "      <th>PoolArea</th>\n",
       "      <th>PoolQC</th>\n",
       "      <th>Fence</th>\n",
       "      <th>MiscFeature</th>\n",
       "      <th>MiscVal</th>\n",
       "      <th>MoSold</th>\n",
       "      <th>YrSold</th>\n",
       "      <th>SaleType</th>\n",
       "      <th>SaleCondition</th>\n",
       "      <th>SalePrice</th>\n",
       "    </tr>\n",
       "  </thead>\n",
       "  <tbody>\n",
       "    <tr>\n",
       "      <th>0</th>\n",
       "      <td>1</td>\n",
       "      <td>60</td>\n",
       "      <td>RL</td>\n",
       "      <td>65.0</td>\n",
       "      <td>8450</td>\n",
       "      <td>Pave</td>\n",
       "      <td>NaN</td>\n",
       "      <td>Reg</td>\n",
       "      <td>Lvl</td>\n",
       "      <td>AllPub</td>\n",
       "      <td>...</td>\n",
       "      <td>0</td>\n",
       "      <td>NaN</td>\n",
       "      <td>NaN</td>\n",
       "      <td>NaN</td>\n",
       "      <td>0</td>\n",
       "      <td>2</td>\n",
       "      <td>2008</td>\n",
       "      <td>WD</td>\n",
       "      <td>Normal</td>\n",
       "      <td>208500.0</td>\n",
       "    </tr>\n",
       "    <tr>\n",
       "      <th>1</th>\n",
       "      <td>2</td>\n",
       "      <td>20</td>\n",
       "      <td>RL</td>\n",
       "      <td>80.0</td>\n",
       "      <td>9600</td>\n",
       "      <td>Pave</td>\n",
       "      <td>NaN</td>\n",
       "      <td>Reg</td>\n",
       "      <td>Lvl</td>\n",
       "      <td>AllPub</td>\n",
       "      <td>...</td>\n",
       "      <td>0</td>\n",
       "      <td>NaN</td>\n",
       "      <td>NaN</td>\n",
       "      <td>NaN</td>\n",
       "      <td>0</td>\n",
       "      <td>5</td>\n",
       "      <td>2007</td>\n",
       "      <td>WD</td>\n",
       "      <td>Normal</td>\n",
       "      <td>181500.0</td>\n",
       "    </tr>\n",
       "    <tr>\n",
       "      <th>2</th>\n",
       "      <td>3</td>\n",
       "      <td>60</td>\n",
       "      <td>RL</td>\n",
       "      <td>68.0</td>\n",
       "      <td>11250</td>\n",
       "      <td>Pave</td>\n",
       "      <td>NaN</td>\n",
       "      <td>IR1</td>\n",
       "      <td>Lvl</td>\n",
       "      <td>AllPub</td>\n",
       "      <td>...</td>\n",
       "      <td>0</td>\n",
       "      <td>NaN</td>\n",
       "      <td>NaN</td>\n",
       "      <td>NaN</td>\n",
       "      <td>0</td>\n",
       "      <td>9</td>\n",
       "      <td>2008</td>\n",
       "      <td>WD</td>\n",
       "      <td>Normal</td>\n",
       "      <td>223500.0</td>\n",
       "    </tr>\n",
       "    <tr>\n",
       "      <th>3</th>\n",
       "      <td>4</td>\n",
       "      <td>70</td>\n",
       "      <td>RL</td>\n",
       "      <td>60.0</td>\n",
       "      <td>9550</td>\n",
       "      <td>Pave</td>\n",
       "      <td>NaN</td>\n",
       "      <td>IR1</td>\n",
       "      <td>Lvl</td>\n",
       "      <td>AllPub</td>\n",
       "      <td>...</td>\n",
       "      <td>0</td>\n",
       "      <td>NaN</td>\n",
       "      <td>NaN</td>\n",
       "      <td>NaN</td>\n",
       "      <td>0</td>\n",
       "      <td>2</td>\n",
       "      <td>2006</td>\n",
       "      <td>WD</td>\n",
       "      <td>Abnorml</td>\n",
       "      <td>140000.0</td>\n",
       "    </tr>\n",
       "    <tr>\n",
       "      <th>4</th>\n",
       "      <td>5</td>\n",
       "      <td>60</td>\n",
       "      <td>RL</td>\n",
       "      <td>84.0</td>\n",
       "      <td>14260</td>\n",
       "      <td>Pave</td>\n",
       "      <td>NaN</td>\n",
       "      <td>IR1</td>\n",
       "      <td>Lvl</td>\n",
       "      <td>AllPub</td>\n",
       "      <td>...</td>\n",
       "      <td>0</td>\n",
       "      <td>NaN</td>\n",
       "      <td>NaN</td>\n",
       "      <td>NaN</td>\n",
       "      <td>0</td>\n",
       "      <td>12</td>\n",
       "      <td>2008</td>\n",
       "      <td>WD</td>\n",
       "      <td>Normal</td>\n",
       "      <td>250000.0</td>\n",
       "    </tr>\n",
       "  </tbody>\n",
       "</table>\n",
       "<p>5 rows × 81 columns</p>\n",
       "</div>"
      ],
      "text/plain": [
       "   Id  MSSubClass MSZoning  LotFrontage  LotArea Street Alley LotShape  \\\n",
       "0   1          60       RL         65.0     8450   Pave   NaN      Reg   \n",
       "1   2          20       RL         80.0     9600   Pave   NaN      Reg   \n",
       "2   3          60       RL         68.0    11250   Pave   NaN      IR1   \n",
       "3   4          70       RL         60.0     9550   Pave   NaN      IR1   \n",
       "4   5          60       RL         84.0    14260   Pave   NaN      IR1   \n",
       "\n",
       "  LandContour Utilities  ... PoolArea PoolQC Fence MiscFeature MiscVal MoSold  \\\n",
       "0         Lvl    AllPub  ...        0    NaN   NaN         NaN       0      2   \n",
       "1         Lvl    AllPub  ...        0    NaN   NaN         NaN       0      5   \n",
       "2         Lvl    AllPub  ...        0    NaN   NaN         NaN       0      9   \n",
       "3         Lvl    AllPub  ...        0    NaN   NaN         NaN       0      2   \n",
       "4         Lvl    AllPub  ...        0    NaN   NaN         NaN       0     12   \n",
       "\n",
       "  YrSold  SaleType  SaleCondition  SalePrice  \n",
       "0   2008        WD         Normal   208500.0  \n",
       "1   2007        WD         Normal   181500.0  \n",
       "2   2008        WD         Normal   223500.0  \n",
       "3   2006        WD        Abnorml   140000.0  \n",
       "4   2008        WD         Normal   250000.0  \n",
       "\n",
       "[5 rows x 81 columns]"
      ]
     },
     "execution_count": 5,
     "metadata": {},
     "output_type": "execute_result"
    }
   ],
   "source": [
    "df.head()"
   ]
  },
  {
   "cell_type": "code",
   "execution_count": 6,
   "id": "cdcfbd54",
   "metadata": {},
   "outputs": [
    {
     "data": {
      "text/html": [
       "<div>\n",
       "<style scoped>\n",
       "    .dataframe tbody tr th:only-of-type {\n",
       "        vertical-align: middle;\n",
       "    }\n",
       "\n",
       "    .dataframe tbody tr th {\n",
       "        vertical-align: top;\n",
       "    }\n",
       "\n",
       "    .dataframe thead th {\n",
       "        text-align: right;\n",
       "    }\n",
       "</style>\n",
       "<table border=\"1\" class=\"dataframe\">\n",
       "  <thead>\n",
       "    <tr style=\"text-align: right;\">\n",
       "      <th></th>\n",
       "      <th>Id</th>\n",
       "      <th>MSSubClass</th>\n",
       "      <th>MSZoning</th>\n",
       "      <th>LotFrontage</th>\n",
       "      <th>LotArea</th>\n",
       "      <th>Street</th>\n",
       "      <th>Alley</th>\n",
       "      <th>LotShape</th>\n",
       "      <th>LandContour</th>\n",
       "      <th>Utilities</th>\n",
       "      <th>...</th>\n",
       "      <th>PoolArea</th>\n",
       "      <th>PoolQC</th>\n",
       "      <th>Fence</th>\n",
       "      <th>MiscFeature</th>\n",
       "      <th>MiscVal</th>\n",
       "      <th>MoSold</th>\n",
       "      <th>YrSold</th>\n",
       "      <th>SaleType</th>\n",
       "      <th>SaleCondition</th>\n",
       "      <th>SalePrice</th>\n",
       "    </tr>\n",
       "  </thead>\n",
       "  <tbody>\n",
       "    <tr>\n",
       "      <th>1454</th>\n",
       "      <td>2915</td>\n",
       "      <td>160</td>\n",
       "      <td>RM</td>\n",
       "      <td>21.0</td>\n",
       "      <td>1936</td>\n",
       "      <td>Pave</td>\n",
       "      <td>NaN</td>\n",
       "      <td>Reg</td>\n",
       "      <td>Lvl</td>\n",
       "      <td>AllPub</td>\n",
       "      <td>...</td>\n",
       "      <td>0</td>\n",
       "      <td>NaN</td>\n",
       "      <td>NaN</td>\n",
       "      <td>NaN</td>\n",
       "      <td>0</td>\n",
       "      <td>6</td>\n",
       "      <td>2006</td>\n",
       "      <td>WD</td>\n",
       "      <td>Normal</td>\n",
       "      <td>NaN</td>\n",
       "    </tr>\n",
       "    <tr>\n",
       "      <th>1455</th>\n",
       "      <td>2916</td>\n",
       "      <td>160</td>\n",
       "      <td>RM</td>\n",
       "      <td>21.0</td>\n",
       "      <td>1894</td>\n",
       "      <td>Pave</td>\n",
       "      <td>NaN</td>\n",
       "      <td>Reg</td>\n",
       "      <td>Lvl</td>\n",
       "      <td>AllPub</td>\n",
       "      <td>...</td>\n",
       "      <td>0</td>\n",
       "      <td>NaN</td>\n",
       "      <td>NaN</td>\n",
       "      <td>NaN</td>\n",
       "      <td>0</td>\n",
       "      <td>4</td>\n",
       "      <td>2006</td>\n",
       "      <td>WD</td>\n",
       "      <td>Abnorml</td>\n",
       "      <td>NaN</td>\n",
       "    </tr>\n",
       "    <tr>\n",
       "      <th>1456</th>\n",
       "      <td>2917</td>\n",
       "      <td>20</td>\n",
       "      <td>RL</td>\n",
       "      <td>160.0</td>\n",
       "      <td>20000</td>\n",
       "      <td>Pave</td>\n",
       "      <td>NaN</td>\n",
       "      <td>Reg</td>\n",
       "      <td>Lvl</td>\n",
       "      <td>AllPub</td>\n",
       "      <td>...</td>\n",
       "      <td>0</td>\n",
       "      <td>NaN</td>\n",
       "      <td>NaN</td>\n",
       "      <td>NaN</td>\n",
       "      <td>0</td>\n",
       "      <td>9</td>\n",
       "      <td>2006</td>\n",
       "      <td>WD</td>\n",
       "      <td>Abnorml</td>\n",
       "      <td>NaN</td>\n",
       "    </tr>\n",
       "    <tr>\n",
       "      <th>1457</th>\n",
       "      <td>2918</td>\n",
       "      <td>85</td>\n",
       "      <td>RL</td>\n",
       "      <td>62.0</td>\n",
       "      <td>10441</td>\n",
       "      <td>Pave</td>\n",
       "      <td>NaN</td>\n",
       "      <td>Reg</td>\n",
       "      <td>Lvl</td>\n",
       "      <td>AllPub</td>\n",
       "      <td>...</td>\n",
       "      <td>0</td>\n",
       "      <td>NaN</td>\n",
       "      <td>MnPrv</td>\n",
       "      <td>Shed</td>\n",
       "      <td>700</td>\n",
       "      <td>7</td>\n",
       "      <td>2006</td>\n",
       "      <td>WD</td>\n",
       "      <td>Normal</td>\n",
       "      <td>NaN</td>\n",
       "    </tr>\n",
       "    <tr>\n",
       "      <th>1458</th>\n",
       "      <td>2919</td>\n",
       "      <td>60</td>\n",
       "      <td>RL</td>\n",
       "      <td>74.0</td>\n",
       "      <td>9627</td>\n",
       "      <td>Pave</td>\n",
       "      <td>NaN</td>\n",
       "      <td>Reg</td>\n",
       "      <td>Lvl</td>\n",
       "      <td>AllPub</td>\n",
       "      <td>...</td>\n",
       "      <td>0</td>\n",
       "      <td>NaN</td>\n",
       "      <td>NaN</td>\n",
       "      <td>NaN</td>\n",
       "      <td>0</td>\n",
       "      <td>11</td>\n",
       "      <td>2006</td>\n",
       "      <td>WD</td>\n",
       "      <td>Normal</td>\n",
       "      <td>NaN</td>\n",
       "    </tr>\n",
       "  </tbody>\n",
       "</table>\n",
       "<p>5 rows × 81 columns</p>\n",
       "</div>"
      ],
      "text/plain": [
       "        Id  MSSubClass MSZoning  LotFrontage  LotArea Street Alley LotShape  \\\n",
       "1454  2915         160       RM         21.0     1936   Pave   NaN      Reg   \n",
       "1455  2916         160       RM         21.0     1894   Pave   NaN      Reg   \n",
       "1456  2917          20       RL        160.0    20000   Pave   NaN      Reg   \n",
       "1457  2918          85       RL         62.0    10441   Pave   NaN      Reg   \n",
       "1458  2919          60       RL         74.0     9627   Pave   NaN      Reg   \n",
       "\n",
       "     LandContour Utilities  ... PoolArea PoolQC  Fence MiscFeature MiscVal  \\\n",
       "1454         Lvl    AllPub  ...        0    NaN    NaN         NaN       0   \n",
       "1455         Lvl    AllPub  ...        0    NaN    NaN         NaN       0   \n",
       "1456         Lvl    AllPub  ...        0    NaN    NaN         NaN       0   \n",
       "1457         Lvl    AllPub  ...        0    NaN  MnPrv        Shed     700   \n",
       "1458         Lvl    AllPub  ...        0    NaN    NaN         NaN       0   \n",
       "\n",
       "     MoSold YrSold  SaleType  SaleCondition  SalePrice  \n",
       "1454      6   2006        WD         Normal        NaN  \n",
       "1455      4   2006        WD        Abnorml        NaN  \n",
       "1456      9   2006        WD        Abnorml        NaN  \n",
       "1457      7   2006        WD         Normal        NaN  \n",
       "1458     11   2006        WD         Normal        NaN  \n",
       "\n",
       "[5 rows x 81 columns]"
      ]
     },
     "execution_count": 6,
     "metadata": {},
     "output_type": "execute_result"
    }
   ],
   "source": [
    "df.tail()"
   ]
  },
  {
   "cell_type": "markdown",
   "id": "0d2ac0a6",
   "metadata": {},
   "source": [
    "### Getting brief information of dataset"
   ]
  },
  {
   "cell_type": "code",
   "execution_count": 7,
   "id": "7913b60c",
   "metadata": {},
   "outputs": [
    {
     "name": "stdout",
     "output_type": "stream",
     "text": [
      "<class 'pandas.core.frame.DataFrame'>\n",
      "Int64Index: 2919 entries, 0 to 1458\n",
      "Data columns (total 81 columns):\n",
      " #   Column         Non-Null Count  Dtype  \n",
      "---  ------         --------------  -----  \n",
      " 0   Id             2919 non-null   int64  \n",
      " 1   MSSubClass     2919 non-null   int64  \n",
      " 2   MSZoning       2915 non-null   object \n",
      " 3   LotFrontage    2433 non-null   float64\n",
      " 4   LotArea        2919 non-null   int64  \n",
      " 5   Street         2919 non-null   object \n",
      " 6   Alley          198 non-null    object \n",
      " 7   LotShape       2919 non-null   object \n",
      " 8   LandContour    2919 non-null   object \n",
      " 9   Utilities      2917 non-null   object \n",
      " 10  LotConfig      2919 non-null   object \n",
      " 11  LandSlope      2919 non-null   object \n",
      " 12  Neighborhood   2919 non-null   object \n",
      " 13  Condition1     2919 non-null   object \n",
      " 14  Condition2     2919 non-null   object \n",
      " 15  BldgType       2919 non-null   object \n",
      " 16  HouseStyle     2919 non-null   object \n",
      " 17  OverallQual    2919 non-null   int64  \n",
      " 18  OverallCond    2919 non-null   int64  \n",
      " 19  YearBuilt      2919 non-null   int64  \n",
      " 20  YearRemodAdd   2919 non-null   int64  \n",
      " 21  RoofStyle      2919 non-null   object \n",
      " 22  RoofMatl       2919 non-null   object \n",
      " 23  Exterior1st    2918 non-null   object \n",
      " 24  Exterior2nd    2918 non-null   object \n",
      " 25  MasVnrType     2895 non-null   object \n",
      " 26  MasVnrArea     2896 non-null   float64\n",
      " 27  ExterQual      2919 non-null   object \n",
      " 28  ExterCond      2919 non-null   object \n",
      " 29  Foundation     2919 non-null   object \n",
      " 30  BsmtQual       2838 non-null   object \n",
      " 31  BsmtCond       2837 non-null   object \n",
      " 32  BsmtExposure   2837 non-null   object \n",
      " 33  BsmtFinType1   2840 non-null   object \n",
      " 34  BsmtFinSF1     2918 non-null   float64\n",
      " 35  BsmtFinType2   2839 non-null   object \n",
      " 36  BsmtFinSF2     2918 non-null   float64\n",
      " 37  BsmtUnfSF      2918 non-null   float64\n",
      " 38  TotalBsmtSF    2918 non-null   float64\n",
      " 39  Heating        2919 non-null   object \n",
      " 40  HeatingQC      2919 non-null   object \n",
      " 41  CentralAir     2919 non-null   object \n",
      " 42  Electrical     2918 non-null   object \n",
      " 43  1stFlrSF       2919 non-null   int64  \n",
      " 44  2ndFlrSF       2919 non-null   int64  \n",
      " 45  LowQualFinSF   2919 non-null   int64  \n",
      " 46  GrLivArea      2919 non-null   int64  \n",
      " 47  BsmtFullBath   2917 non-null   float64\n",
      " 48  BsmtHalfBath   2917 non-null   float64\n",
      " 49  FullBath       2919 non-null   int64  \n",
      " 50  HalfBath       2919 non-null   int64  \n",
      " 51  BedroomAbvGr   2919 non-null   int64  \n",
      " 52  KitchenAbvGr   2919 non-null   int64  \n",
      " 53  KitchenQual    2918 non-null   object \n",
      " 54  TotRmsAbvGrd   2919 non-null   int64  \n",
      " 55  Functional     2917 non-null   object \n",
      " 56  Fireplaces     2919 non-null   int64  \n",
      " 57  FireplaceQu    1499 non-null   object \n",
      " 58  GarageType     2762 non-null   object \n",
      " 59  GarageYrBlt    2760 non-null   float64\n",
      " 60  GarageFinish   2760 non-null   object \n",
      " 61  GarageCars     2918 non-null   float64\n",
      " 62  GarageArea     2918 non-null   float64\n",
      " 63  GarageQual     2760 non-null   object \n",
      " 64  GarageCond     2760 non-null   object \n",
      " 65  PavedDrive     2919 non-null   object \n",
      " 66  WoodDeckSF     2919 non-null   int64  \n",
      " 67  OpenPorchSF    2919 non-null   int64  \n",
      " 68  EnclosedPorch  2919 non-null   int64  \n",
      " 69  3SsnPorch      2919 non-null   int64  \n",
      " 70  ScreenPorch    2919 non-null   int64  \n",
      " 71  PoolArea       2919 non-null   int64  \n",
      " 72  PoolQC         10 non-null     object \n",
      " 73  Fence          571 non-null    object \n",
      " 74  MiscFeature    105 non-null    object \n",
      " 75  MiscVal        2919 non-null   int64  \n",
      " 76  MoSold         2919 non-null   int64  \n",
      " 77  YrSold         2919 non-null   int64  \n",
      " 78  SaleType       2918 non-null   object \n",
      " 79  SaleCondition  2919 non-null   object \n",
      " 80  SalePrice      1460 non-null   float64\n",
      "dtypes: float64(12), int64(26), object(43)\n",
      "memory usage: 1.8+ MB\n"
     ]
    }
   ],
   "source": [
    "df.info()"
   ]
  },
  {
   "cell_type": "raw",
   "id": "0554b522",
   "metadata": {},
   "source": [
    "# Most Null value features\n",
    "Alley\n",
    "FireplaceQu\n",
    "PoolQC\n",
    "Fence\n",
    "MiscFeature"
   ]
  },
  {
   "cell_type": "code",
   "execution_count": 8,
   "id": "843dd707",
   "metadata": {},
   "outputs": [
    {
     "name": "stdout",
     "output_type": "stream",
     "text": [
      "Total number of integer features  :  26\n",
      "Integer feature names :  ['Id', 'MSSubClass', 'LotArea', 'OverallQual', 'OverallCond', 'YearBuilt', 'YearRemodAdd', '1stFlrSF', '2ndFlrSF', 'LowQualFinSF', 'GrLivArea', 'FullBath', 'HalfBath', 'BedroomAbvGr', 'KitchenAbvGr', 'TotRmsAbvGrd', 'Fireplaces', 'WoodDeckSF', 'OpenPorchSF', 'EnclosedPorch', '3SsnPorch', 'ScreenPorch', 'PoolArea', 'MiscVal', 'MoSold', 'YrSold']\n"
     ]
    }
   ],
   "source": [
    "int_features = df.select_dtypes(include=[\"int64\"]).columns\n",
    "print(\"Total number of integer features  : \",int_features.shape[0])\n",
    "\n",
    "print(\"Integer feature names : \",int_features.tolist())"
   ]
  },
  {
   "cell_type": "code",
   "execution_count": 9,
   "id": "ba1b3c01",
   "metadata": {},
   "outputs": [
    {
     "name": "stdout",
     "output_type": "stream",
     "text": [
      "Total number of integer features  :  12\n",
      "Integer feature names :  ['LotFrontage', 'MasVnrArea', 'BsmtFinSF1', 'BsmtFinSF2', 'BsmtUnfSF', 'TotalBsmtSF', 'BsmtFullBath', 'BsmtHalfBath', 'GarageYrBlt', 'GarageCars', 'GarageArea', 'SalePrice']\n"
     ]
    }
   ],
   "source": [
    "float_features = df.select_dtypes(include=[\"float64\"]).columns\n",
    "print(\"Total number of integer features  : \",float_features.shape[0])\n",
    "\n",
    "print(\"Integer feature names : \",float_features.tolist())"
   ]
  },
  {
   "cell_type": "code",
   "execution_count": 10,
   "id": "b9a4e80d",
   "metadata": {},
   "outputs": [
    {
     "name": "stdout",
     "output_type": "stream",
     "text": [
      "Total number of integer features  :  43\n",
      "Integer feature names :  ['MSZoning', 'Street', 'Alley', 'LotShape', 'LandContour', 'Utilities', 'LotConfig', 'LandSlope', 'Neighborhood', 'Condition1', 'Condition2', 'BldgType', 'HouseStyle', 'RoofStyle', 'RoofMatl', 'Exterior1st', 'Exterior2nd', 'MasVnrType', 'ExterQual', 'ExterCond', 'Foundation', 'BsmtQual', 'BsmtCond', 'BsmtExposure', 'BsmtFinType1', 'BsmtFinType2', 'Heating', 'HeatingQC', 'CentralAir', 'Electrical', 'KitchenQual', 'Functional', 'FireplaceQu', 'GarageType', 'GarageFinish', 'GarageQual', 'GarageCond', 'PavedDrive', 'PoolQC', 'Fence', 'MiscFeature', 'SaleType', 'SaleCondition']\n"
     ]
    }
   ],
   "source": [
    "categorical_features = df.select_dtypes(include=[\"object\"]).columns\n",
    "print(\"Total number of integer features  : \",categorical_features.shape[0])\n",
    "\n",
    "print(\"Integer feature names : \",categorical_features.tolist())"
   ]
  },
  {
   "cell_type": "markdown",
   "id": "85702c1e",
   "metadata": {},
   "source": [
    "### Data Exploration "
   ]
  },
  {
   "cell_type": "code",
   "execution_count": 11,
   "id": "c13b5f20",
   "metadata": {
    "scrolled": false
   },
   "outputs": [
    {
     "data": {
      "text/html": [
       "<div>\n",
       "<style scoped>\n",
       "    .dataframe tbody tr th:only-of-type {\n",
       "        vertical-align: middle;\n",
       "    }\n",
       "\n",
       "    .dataframe tbody tr th {\n",
       "        vertical-align: top;\n",
       "    }\n",
       "\n",
       "    .dataframe thead th {\n",
       "        text-align: right;\n",
       "    }\n",
       "</style>\n",
       "<table border=\"1\" class=\"dataframe\">\n",
       "  <thead>\n",
       "    <tr style=\"text-align: right;\">\n",
       "      <th></th>\n",
       "      <th>Id</th>\n",
       "      <th>MSSubClass</th>\n",
       "      <th>LotFrontage</th>\n",
       "      <th>LotArea</th>\n",
       "      <th>OverallQual</th>\n",
       "      <th>OverallCond</th>\n",
       "      <th>YearBuilt</th>\n",
       "      <th>YearRemodAdd</th>\n",
       "      <th>MasVnrArea</th>\n",
       "      <th>BsmtFinSF1</th>\n",
       "      <th>...</th>\n",
       "      <th>WoodDeckSF</th>\n",
       "      <th>OpenPorchSF</th>\n",
       "      <th>EnclosedPorch</th>\n",
       "      <th>3SsnPorch</th>\n",
       "      <th>ScreenPorch</th>\n",
       "      <th>PoolArea</th>\n",
       "      <th>MiscVal</th>\n",
       "      <th>MoSold</th>\n",
       "      <th>YrSold</th>\n",
       "      <th>SalePrice</th>\n",
       "    </tr>\n",
       "  </thead>\n",
       "  <tbody>\n",
       "    <tr>\n",
       "      <th>count</th>\n",
       "      <td>2919.000000</td>\n",
       "      <td>2919.000000</td>\n",
       "      <td>2433.000000</td>\n",
       "      <td>2919.000000</td>\n",
       "      <td>2919.000000</td>\n",
       "      <td>2919.000000</td>\n",
       "      <td>2919.000000</td>\n",
       "      <td>2919.000000</td>\n",
       "      <td>2896.000000</td>\n",
       "      <td>2918.000000</td>\n",
       "      <td>...</td>\n",
       "      <td>2919.000000</td>\n",
       "      <td>2919.000000</td>\n",
       "      <td>2919.000000</td>\n",
       "      <td>2919.000000</td>\n",
       "      <td>2919.000000</td>\n",
       "      <td>2919.000000</td>\n",
       "      <td>2919.000000</td>\n",
       "      <td>2919.000000</td>\n",
       "      <td>2919.000000</td>\n",
       "      <td>1460.000000</td>\n",
       "    </tr>\n",
       "    <tr>\n",
       "      <th>mean</th>\n",
       "      <td>1460.000000</td>\n",
       "      <td>57.137718</td>\n",
       "      <td>69.305795</td>\n",
       "      <td>10168.114080</td>\n",
       "      <td>6.089072</td>\n",
       "      <td>5.564577</td>\n",
       "      <td>1971.312778</td>\n",
       "      <td>1984.264474</td>\n",
       "      <td>102.201312</td>\n",
       "      <td>441.423235</td>\n",
       "      <td>...</td>\n",
       "      <td>93.709832</td>\n",
       "      <td>47.486811</td>\n",
       "      <td>23.098321</td>\n",
       "      <td>2.602261</td>\n",
       "      <td>16.062350</td>\n",
       "      <td>2.251799</td>\n",
       "      <td>50.825968</td>\n",
       "      <td>6.213087</td>\n",
       "      <td>2007.792737</td>\n",
       "      <td>180921.195890</td>\n",
       "    </tr>\n",
       "    <tr>\n",
       "      <th>std</th>\n",
       "      <td>842.787043</td>\n",
       "      <td>42.517628</td>\n",
       "      <td>23.344905</td>\n",
       "      <td>7886.996359</td>\n",
       "      <td>1.409947</td>\n",
       "      <td>1.113131</td>\n",
       "      <td>30.291442</td>\n",
       "      <td>20.894344</td>\n",
       "      <td>179.334253</td>\n",
       "      <td>455.610826</td>\n",
       "      <td>...</td>\n",
       "      <td>126.526589</td>\n",
       "      <td>67.575493</td>\n",
       "      <td>64.244246</td>\n",
       "      <td>25.188169</td>\n",
       "      <td>56.184365</td>\n",
       "      <td>35.663946</td>\n",
       "      <td>567.402211</td>\n",
       "      <td>2.714762</td>\n",
       "      <td>1.314964</td>\n",
       "      <td>79442.502883</td>\n",
       "    </tr>\n",
       "    <tr>\n",
       "      <th>min</th>\n",
       "      <td>1.000000</td>\n",
       "      <td>20.000000</td>\n",
       "      <td>21.000000</td>\n",
       "      <td>1300.000000</td>\n",
       "      <td>1.000000</td>\n",
       "      <td>1.000000</td>\n",
       "      <td>1872.000000</td>\n",
       "      <td>1950.000000</td>\n",
       "      <td>0.000000</td>\n",
       "      <td>0.000000</td>\n",
       "      <td>...</td>\n",
       "      <td>0.000000</td>\n",
       "      <td>0.000000</td>\n",
       "      <td>0.000000</td>\n",
       "      <td>0.000000</td>\n",
       "      <td>0.000000</td>\n",
       "      <td>0.000000</td>\n",
       "      <td>0.000000</td>\n",
       "      <td>1.000000</td>\n",
       "      <td>2006.000000</td>\n",
       "      <td>34900.000000</td>\n",
       "    </tr>\n",
       "    <tr>\n",
       "      <th>25%</th>\n",
       "      <td>730.500000</td>\n",
       "      <td>20.000000</td>\n",
       "      <td>59.000000</td>\n",
       "      <td>7478.000000</td>\n",
       "      <td>5.000000</td>\n",
       "      <td>5.000000</td>\n",
       "      <td>1953.500000</td>\n",
       "      <td>1965.000000</td>\n",
       "      <td>0.000000</td>\n",
       "      <td>0.000000</td>\n",
       "      <td>...</td>\n",
       "      <td>0.000000</td>\n",
       "      <td>0.000000</td>\n",
       "      <td>0.000000</td>\n",
       "      <td>0.000000</td>\n",
       "      <td>0.000000</td>\n",
       "      <td>0.000000</td>\n",
       "      <td>0.000000</td>\n",
       "      <td>4.000000</td>\n",
       "      <td>2007.000000</td>\n",
       "      <td>129975.000000</td>\n",
       "    </tr>\n",
       "    <tr>\n",
       "      <th>50%</th>\n",
       "      <td>1460.000000</td>\n",
       "      <td>50.000000</td>\n",
       "      <td>68.000000</td>\n",
       "      <td>9453.000000</td>\n",
       "      <td>6.000000</td>\n",
       "      <td>5.000000</td>\n",
       "      <td>1973.000000</td>\n",
       "      <td>1993.000000</td>\n",
       "      <td>0.000000</td>\n",
       "      <td>368.500000</td>\n",
       "      <td>...</td>\n",
       "      <td>0.000000</td>\n",
       "      <td>26.000000</td>\n",
       "      <td>0.000000</td>\n",
       "      <td>0.000000</td>\n",
       "      <td>0.000000</td>\n",
       "      <td>0.000000</td>\n",
       "      <td>0.000000</td>\n",
       "      <td>6.000000</td>\n",
       "      <td>2008.000000</td>\n",
       "      <td>163000.000000</td>\n",
       "    </tr>\n",
       "    <tr>\n",
       "      <th>75%</th>\n",
       "      <td>2189.500000</td>\n",
       "      <td>70.000000</td>\n",
       "      <td>80.000000</td>\n",
       "      <td>11570.000000</td>\n",
       "      <td>7.000000</td>\n",
       "      <td>6.000000</td>\n",
       "      <td>2001.000000</td>\n",
       "      <td>2004.000000</td>\n",
       "      <td>164.000000</td>\n",
       "      <td>733.000000</td>\n",
       "      <td>...</td>\n",
       "      <td>168.000000</td>\n",
       "      <td>70.000000</td>\n",
       "      <td>0.000000</td>\n",
       "      <td>0.000000</td>\n",
       "      <td>0.000000</td>\n",
       "      <td>0.000000</td>\n",
       "      <td>0.000000</td>\n",
       "      <td>8.000000</td>\n",
       "      <td>2009.000000</td>\n",
       "      <td>214000.000000</td>\n",
       "    </tr>\n",
       "    <tr>\n",
       "      <th>max</th>\n",
       "      <td>2919.000000</td>\n",
       "      <td>190.000000</td>\n",
       "      <td>313.000000</td>\n",
       "      <td>215245.000000</td>\n",
       "      <td>10.000000</td>\n",
       "      <td>9.000000</td>\n",
       "      <td>2010.000000</td>\n",
       "      <td>2010.000000</td>\n",
       "      <td>1600.000000</td>\n",
       "      <td>5644.000000</td>\n",
       "      <td>...</td>\n",
       "      <td>1424.000000</td>\n",
       "      <td>742.000000</td>\n",
       "      <td>1012.000000</td>\n",
       "      <td>508.000000</td>\n",
       "      <td>576.000000</td>\n",
       "      <td>800.000000</td>\n",
       "      <td>17000.000000</td>\n",
       "      <td>12.000000</td>\n",
       "      <td>2010.000000</td>\n",
       "      <td>755000.000000</td>\n",
       "    </tr>\n",
       "  </tbody>\n",
       "</table>\n",
       "<p>8 rows × 38 columns</p>\n",
       "</div>"
      ],
      "text/plain": [
       "                Id   MSSubClass  LotFrontage        LotArea  OverallQual  \\\n",
       "count  2919.000000  2919.000000  2433.000000    2919.000000  2919.000000   \n",
       "mean   1460.000000    57.137718    69.305795   10168.114080     6.089072   \n",
       "std     842.787043    42.517628    23.344905    7886.996359     1.409947   \n",
       "min       1.000000    20.000000    21.000000    1300.000000     1.000000   \n",
       "25%     730.500000    20.000000    59.000000    7478.000000     5.000000   \n",
       "50%    1460.000000    50.000000    68.000000    9453.000000     6.000000   \n",
       "75%    2189.500000    70.000000    80.000000   11570.000000     7.000000   \n",
       "max    2919.000000   190.000000   313.000000  215245.000000    10.000000   \n",
       "\n",
       "       OverallCond    YearBuilt  YearRemodAdd   MasVnrArea   BsmtFinSF1  ...  \\\n",
       "count  2919.000000  2919.000000   2919.000000  2896.000000  2918.000000  ...   \n",
       "mean      5.564577  1971.312778   1984.264474   102.201312   441.423235  ...   \n",
       "std       1.113131    30.291442     20.894344   179.334253   455.610826  ...   \n",
       "min       1.000000  1872.000000   1950.000000     0.000000     0.000000  ...   \n",
       "25%       5.000000  1953.500000   1965.000000     0.000000     0.000000  ...   \n",
       "50%       5.000000  1973.000000   1993.000000     0.000000   368.500000  ...   \n",
       "75%       6.000000  2001.000000   2004.000000   164.000000   733.000000  ...   \n",
       "max       9.000000  2010.000000   2010.000000  1600.000000  5644.000000  ...   \n",
       "\n",
       "        WoodDeckSF  OpenPorchSF  EnclosedPorch    3SsnPorch  ScreenPorch  \\\n",
       "count  2919.000000  2919.000000    2919.000000  2919.000000  2919.000000   \n",
       "mean     93.709832    47.486811      23.098321     2.602261    16.062350   \n",
       "std     126.526589    67.575493      64.244246    25.188169    56.184365   \n",
       "min       0.000000     0.000000       0.000000     0.000000     0.000000   \n",
       "25%       0.000000     0.000000       0.000000     0.000000     0.000000   \n",
       "50%       0.000000    26.000000       0.000000     0.000000     0.000000   \n",
       "75%     168.000000    70.000000       0.000000     0.000000     0.000000   \n",
       "max    1424.000000   742.000000    1012.000000   508.000000   576.000000   \n",
       "\n",
       "          PoolArea       MiscVal       MoSold       YrSold      SalePrice  \n",
       "count  2919.000000   2919.000000  2919.000000  2919.000000    1460.000000  \n",
       "mean      2.251799     50.825968     6.213087  2007.792737  180921.195890  \n",
       "std      35.663946    567.402211     2.714762     1.314964   79442.502883  \n",
       "min       0.000000      0.000000     1.000000  2006.000000   34900.000000  \n",
       "25%       0.000000      0.000000     4.000000  2007.000000  129975.000000  \n",
       "50%       0.000000      0.000000     6.000000  2008.000000  163000.000000  \n",
       "75%       0.000000      0.000000     8.000000  2009.000000  214000.000000  \n",
       "max     800.000000  17000.000000    12.000000  2010.000000  755000.000000  \n",
       "\n",
       "[8 rows x 38 columns]"
      ]
     },
     "execution_count": 11,
     "metadata": {},
     "output_type": "execute_result"
    }
   ],
   "source": [
    "#Getting the statistical information of numerical features(int64 and float64)\n",
    "df.describe()"
   ]
  },
  {
   "cell_type": "code",
   "execution_count": 12,
   "id": "1efb74dc",
   "metadata": {},
   "outputs": [
    {
     "data": {
      "text/plain": [
       "(8, 38)"
      ]
     },
     "execution_count": 12,
     "metadata": {},
     "output_type": "execute_result"
    }
   ],
   "source": [
    "df.describe().shape"
   ]
  },
  {
   "cell_type": "markdown",
   "id": "851edf7e",
   "metadata": {},
   "source": [
    "### Visualising null value"
   ]
  },
  {
   "cell_type": "code",
   "execution_count": 13,
   "id": "387b32b9",
   "metadata": {},
   "outputs": [
    {
     "data": {
      "text/plain": [
       "<AxesSubplot:>"
      ]
     },
     "execution_count": 13,
     "metadata": {},
     "output_type": "execute_result"
    },
    {
     "data": {
      "image/png": "[encoded data removed]",
      "text/plain": [
       "<Figure size 1152x648 with 2 Axes>"
      ]
     },
     "metadata": {
      "needs_background": "light"
     },
     "output_type": "display_data"
    }
   ],
   "source": [
    "plt.figure(figsize=(16,9))\n",
    "sns.heatmap(df.isnull())"
   ]
  },
  {
   "cell_type": "code",
   "execution_count": 14,
   "id": "c9f5dde2",
   "metadata": {},
   "outputs": [],
   "source": [
    "df=df.set_index(\"Id\")"
   ]
  },
  {
   "cell_type": "code",
   "execution_count": 15,
   "id": "00ad7888",
   "metadata": {},
   "outputs": [
    {
     "data": {
      "text/plain": [
       "MSSubClass        0.000000\n",
       "MSZoning          0.137033\n",
       "LotFrontage      16.649538\n",
       "LotArea           0.000000\n",
       "Street            0.000000\n",
       "                   ...    \n",
       "MoSold            0.000000\n",
       "YrSold            0.000000\n",
       "SaleType          0.034258\n",
       "SaleCondition     0.000000\n",
       "SalePrice        49.982871\n",
       "Length: 80, dtype: float64"
      ]
     },
     "execution_count": 15,
     "metadata": {},
     "output_type": "execute_result"
    }
   ],
   "source": [
    "nullpercent = df.isnull().sum()/df.shape[0]*100\n",
    "nullpercent"
   ]
  },
  {
   "cell_type": "code",
   "execution_count": 16,
   "id": "2231f48b",
   "metadata": {},
   "outputs": [
    {
     "data": {
      "text/plain": [
       "Alley          93.216855\n",
       "PoolQC         99.657417\n",
       "Fence          80.438506\n",
       "MiscFeature    96.402878\n",
       "dtype: float64"
      ]
     },
     "execution_count": 16,
     "metadata": {},
     "output_type": "execute_result"
    }
   ],
   "source": [
    "mis_value_50_percent = nullpercent[nullpercent>50]\n",
    "mis_value_50_percent"
   ]
  },
  {
   "cell_type": "code",
   "execution_count": 17,
   "id": "bdeb85b6",
   "metadata": {},
   "outputs": [
    {
     "data": {
      "text/plain": [
       "Grvl    120\n",
       "Pave     78\n",
       "Name: Alley, dtype: int64"
      ]
     },
     "execution_count": 17,
     "metadata": {},
     "output_type": "execute_result"
    }
   ],
   "source": [
    "df[\"Alley\"].value_counts()"
   ]
  },
  {
   "cell_type": "code",
   "execution_count": 18,
   "id": "1c53e5b9",
   "metadata": {},
   "outputs": [
    {
     "data": {
      "text/plain": [
       "FireplaceQu    48.646797\n",
       "SalePrice      49.982871\n",
       "dtype: float64"
      ]
     },
     "execution_count": 18,
     "metadata": {},
     "output_type": "execute_result"
    }
   ],
   "source": [
    "mis_value_20_50_percent = nullpercent[(nullpercent>20) & (nullpercent<51)]\n",
    "mis_value_20_50_percent"
   ]
  },
  {
   "cell_type": "code",
   "execution_count": 19,
   "id": "654018b3",
   "metadata": {},
   "outputs": [
    {
     "data": {
      "text/plain": [
       "LotFrontage     16.649538\n",
       "GarageType       5.378554\n",
       "GarageYrBlt      5.447071\n",
       "GarageFinish     5.447071\n",
       "GarageQual       5.447071\n",
       "GarageCond       5.447071\n",
       "dtype: float64"
      ]
     },
     "execution_count": 19,
     "metadata": {},
     "output_type": "execute_result"
    }
   ],
   "source": [
    "mis_value_5_20_percent = nullpercent[(nullpercent>5) & (nullpercent<21)]\n",
    "mis_value_5_20_percent"
   ]
  },
  {
   "cell_type": "code",
   "execution_count": 20,
   "id": "6a03e60f",
   "metadata": {},
   "outputs": [
    {
     "data": {
      "text/plain": [
       "<AxesSubplot:ylabel='Id'>"
      ]
     },
     "execution_count": 20,
     "metadata": {},
     "output_type": "execute_result"
    },
    {
     "data": {
      "image/png": "[encoded data removed]",
      "text/plain": [
       "<Figure size 432x288 with 2 Axes>"
      ]
     },
     "metadata": {
      "needs_background": "light"
     },
     "output_type": "display_data"
    }
   ],
   "source": [
    "sns.heatmap(df[mis_value_5_20_percent.keys()].isnull())"
   ]
  },
  {
   "cell_type": "markdown",
   "id": "9ce3d9fa",
   "metadata": {},
   "source": [
    "### Missing value imputation"
   ]
  },
  {
   "cell_type": "code",
   "execution_count": 21,
   "id": "28f20cff",
   "metadata": {},
   "outputs": [
    {
     "name": "stdout",
     "output_type": "stream",
     "text": [
      "Total missing value features =  35\n"
     ]
    }
   ],
   "source": [
    "missing_values_feat = nullpercent[nullpercent>0]\n",
    "print(\"Total missing value features = \", len(missing_values_feat))"
   ]
  },
  {
   "cell_type": "code",
   "execution_count": 22,
   "id": "9d7b9033",
   "metadata": {},
   "outputs": [
    {
     "data": {
      "text/plain": [
       "MSZoning         0.137033\n",
       "LotFrontage     16.649538\n",
       "Alley           93.216855\n",
       "Utilities        0.068517\n",
       "Exterior1st      0.034258\n",
       "Exterior2nd      0.034258\n",
       "MasVnrType       0.822199\n",
       "MasVnrArea       0.787941\n",
       "BsmtQual         2.774923\n",
       "BsmtCond         2.809181\n",
       "BsmtExposure     2.809181\n",
       "BsmtFinType1     2.706406\n",
       "BsmtFinSF1       0.034258\n",
       "BsmtFinType2     2.740665\n",
       "BsmtFinSF2       0.034258\n",
       "BsmtUnfSF        0.034258\n",
       "TotalBsmtSF      0.034258\n",
       "Electrical       0.034258\n",
       "BsmtFullBath     0.068517\n",
       "BsmtHalfBath     0.068517\n",
       "KitchenQual      0.034258\n",
       "Functional       0.068517\n",
       "FireplaceQu     48.646797\n",
       "GarageType       5.378554\n",
       "GarageYrBlt      5.447071\n",
       "GarageFinish     5.447071\n",
       "GarageCars       0.034258\n",
       "GarageArea       0.034258\n",
       "GarageQual       5.447071\n",
       "GarageCond       5.447071\n",
       "PoolQC          99.657417\n",
       "Fence           80.438506\n",
       "MiscFeature     96.402878\n",
       "SaleType         0.034258\n",
       "SalePrice       49.982871\n",
       "dtype: float64"
      ]
     },
     "execution_count": 22,
     "metadata": {},
     "output_type": "execute_result"
    }
   ],
   "source": [
    "missing_values_feat"
   ]
  },
  {
   "cell_type": "code",
   "execution_count": 23,
   "id": "6ddf0aad",
   "metadata": {},
   "outputs": [
    {
     "name": "stdout",
     "output_type": "stream",
     "text": [
      "Total number of categorical missing features =  23\n"
     ]
    },
    {
     "data": {
      "text/plain": [
       "MSZoning         0.137033\n",
       "Alley           93.216855\n",
       "Utilities        0.068517\n",
       "Exterior1st      0.034258\n",
       "Exterior2nd      0.034258\n",
       "MasVnrType       0.822199\n",
       "BsmtQual         2.774923\n",
       "BsmtCond         2.809181\n",
       "BsmtExposure     2.809181\n",
       "BsmtFinType1     2.706406\n",
       "BsmtFinType2     2.740665\n",
       "Electrical       0.034258\n",
       "KitchenQual      0.034258\n",
       "Functional       0.068517\n",
       "FireplaceQu     48.646797\n",
       "GarageType       5.378554\n",
       "GarageFinish     5.447071\n",
       "GarageQual       5.447071\n",
       "GarageCond       5.447071\n",
       "PoolQC          99.657417\n",
       "Fence           80.438506\n",
       "MiscFeature     96.402878\n",
       "SaleType         0.034258\n",
       "dtype: float64"
      ]
     },
     "execution_count": 23,
     "metadata": {},
     "output_type": "execute_result"
    }
   ],
   "source": [
    "cat_na_features = missing_values_feat[missing_values_feat.keys().isin(categorical_features)]\n",
    "print(\"Total number of categorical missing features = \",len(cat_na_features))\n",
    "cat_na_features"
   ]
  },
  {
   "cell_type": "code",
   "execution_count": 24,
   "id": "f257a537",
   "metadata": {},
   "outputs": [
    {
     "name": "stdout",
     "output_type": "stream",
     "text": [
      "Total number of integer missing features =  0\n"
     ]
    },
    {
     "data": {
      "text/plain": [
       "Series([], dtype: float64)"
      ]
     },
     "execution_count": 24,
     "metadata": {},
     "output_type": "execute_result"
    }
   ],
   "source": [
    "int_na_features = missing_values_feat[missing_values_feat.keys().isin(int_features)]\n",
    "print(\"Total number of integer missing features = \",len(int_na_features))\n",
    "int_na_features"
   ]
  },
  {
   "cell_type": "code",
   "execution_count": 25,
   "id": "29262d85",
   "metadata": {},
   "outputs": [
    {
     "name": "stdout",
     "output_type": "stream",
     "text": [
      "Total number of float missing features =  12\n"
     ]
    },
    {
     "data": {
      "text/plain": [
       "LotFrontage     16.649538\n",
       "MasVnrArea       0.787941\n",
       "BsmtFinSF1       0.034258\n",
       "BsmtFinSF2       0.034258\n",
       "BsmtUnfSF        0.034258\n",
       "TotalBsmtSF      0.034258\n",
       "BsmtFullBath     0.068517\n",
       "BsmtHalfBath     0.068517\n",
       "GarageYrBlt      5.447071\n",
       "GarageCars       0.034258\n",
       "GarageArea       0.034258\n",
       "SalePrice       49.982871\n",
       "dtype: float64"
      ]
     },
     "execution_count": 25,
     "metadata": {},
     "output_type": "execute_result"
    }
   ],
   "source": [
    "float_na_features = missing_values_feat[missing_values_feat.keys().isin(float_features)]\n",
    "print(\"Total number of float missing features = \",len(float_na_features))\n",
    "float_na_features"
   ]
  },
  {
   "cell_type": "markdown",
   "id": "9429f0d7",
   "metadata": {},
   "source": [
    "### Handling MSZoning = 0.137033"
   ]
  },
  {
   "cell_type": "code",
   "execution_count": 26,
   "id": "e2dbc904",
   "metadata": {},
   "outputs": [
    {
     "data": {
      "text/plain": [
       "RL         2265\n",
       "RM          460\n",
       "FV          139\n",
       "RH           26\n",
       "C (all)      25\n",
       "Name: MSZoning, dtype: int64"
      ]
     },
     "execution_count": 26,
     "metadata": {},
     "output_type": "execute_result"
    }
   ],
   "source": [
    "df[\"MSZoning\"].value_counts()"
   ]
  },
  {
   "cell_type": "code",
   "execution_count": 27,
   "id": "667f690a",
   "metadata": {},
   "outputs": [
    {
     "name": "stderr",
     "output_type": "stream",
     "text": [
      "C:\\ProgramData\\Anaconda3\\lib\\site-packages\\seaborn\\_decorators.py:36: FutureWarning: Pass the following variable as a keyword arg: x. From version 0.12, the only valid positional argument will be `data`, and passing other arguments without an explicit keyword will result in an error or misinterpretation.\n",
      "  warnings.warn(\n"
     ]
    },
    {
     "data": {
      "text/plain": [
       "<AxesSubplot:xlabel='MSZoning', ylabel='count'>"
      ]
     },
     "execution_count": 27,
     "metadata": {},
     "output_type": "execute_result"
    },
    {
     "data": {
      "image/png": "[encoded data removed]",
      "text/plain": [
       "<Figure size 432x288 with 1 Axes>"
      ]
     },
     "metadata": {
      "needs_background": "light"
     },
     "output_type": "display_data"
    }
   ],
   "source": [
    "sns.countplot(df[\"MSZoning\"])"
   ]
  },
  {
   "cell_type": "code",
   "execution_count": 28,
   "id": "dd1fb9ca",
   "metadata": {},
   "outputs": [
    {
     "data": {
      "text/plain": [
       "(2919, 80)"
      ]
     },
     "execution_count": 28,
     "metadata": {},
     "output_type": "execute_result"
    }
   ],
   "source": [
    "# backup of original data\n",
    "df_mvi =df.copy()\n",
    "df_mvi.shape"
   ]
  },
  {
   "cell_type": "code",
   "execution_count": 29,
   "id": "12709fe2",
   "metadata": {},
   "outputs": [
    {
     "data": {
      "text/plain": [
       "0"
      ]
     },
     "execution_count": 29,
     "metadata": {},
     "output_type": "execute_result"
    }
   ],
   "source": [
    "mszoning_mode = df[\"MSZoning\"].mode()[0]\n",
    "df_mvi[\"MSZoning\"].replace(np.nan,mszoning_mode,inplace=True)\n",
    "df_mvi[\"MSZoning\"].isnull().sum()"
   ]
  },
  {
   "cell_type": "code",
   "execution_count": 30,
   "id": "051c8c66",
   "metadata": {},
   "outputs": [
    {
     "name": "stderr",
     "output_type": "stream",
     "text": [
      "C:\\ProgramData\\Anaconda3\\lib\\site-packages\\seaborn\\_decorators.py:36: FutureWarning: Pass the following variable as a keyword arg: x. From version 0.12, the only valid positional argument will be `data`, and passing other arguments without an explicit keyword will result in an error or misinterpretation.\n",
      "  warnings.warn(\n"
     ]
    },
    {
     "data": {
      "text/plain": [
       "<AxesSubplot:xlabel='MSZoning', ylabel='count'>"
      ]
     },
     "execution_count": 30,
     "metadata": {},
     "output_type": "execute_result"
    },
    {
     "data": {
      "image/png": "[encoded data removed]",
      "text/plain": [
       "<Figure size 432x288 with 1 Axes>"
      ]
     },
     "metadata": {
      "needs_background": "light"
     },
     "output_type": "display_data"
    }
   ],
   "source": [
    "sns.countplot(df_mvi[\"MSZoning\"])"
   ]
  },
  {
   "cell_type": "code",
   "execution_count": 31,
   "id": "27bb348c",
   "metadata": {},
   "outputs": [],
   "source": [
    "def oldNewCountPlot(df, df_new,feature):\n",
    "    plt.subplot(121)\n",
    "    sns.countplot(df[feature])\n",
    "    plt.title(\"Old Data Distribution\")\n",
    "    plt.subplot(122)\n",
    "    sns.countplot(df_new[feature])\n",
    "    plt.title(\"New Data Distribution\")"
   ]
  },
  {
   "cell_type": "code",
   "execution_count": 32,
   "id": "3920d2a3",
   "metadata": {},
   "outputs": [
    {
     "name": "stderr",
     "output_type": "stream",
     "text": [
      "C:\\ProgramData\\Anaconda3\\lib\\site-packages\\seaborn\\_decorators.py:36: FutureWarning: Pass the following variable as a keyword arg: x. From version 0.12, the only valid positional argument will be `data`, and passing other arguments without an explicit keyword will result in an error or misinterpretation.\n",
      "  warnings.warn(\n",
      "C:\\ProgramData\\Anaconda3\\lib\\site-packages\\seaborn\\_decorators.py:36: FutureWarning: Pass the following variable as a keyword arg: x. From version 0.12, the only valid positional argument will be `data`, and passing other arguments without an explicit keyword will result in an error or misinterpretation.\n",
      "  warnings.warn(\n"
     ]
    },
    {
     "data": {
      "image/png": "[encoded data removed]",
      "text/plain": [
       "<Figure size 432x288 with 2 Axes>"
      ]
     },
     "metadata": {
      "needs_background": "light"
     },
     "output_type": "display_data"
    }
   ],
   "source": [
    "oldNewCountPlot(df, df_mvi,\"MSZoning\")"
   ]
  },
  {
   "cell_type": "markdown",
   "id": "f1744a4e",
   "metadata": {},
   "source": [
    "### Handling Alley = 93.216855"
   ]
  },
  {
   "cell_type": "code",
   "execution_count": 33,
   "id": "09117536",
   "metadata": {},
   "outputs": [
    {
     "data": {
      "text/plain": [
       "Grvl    120\n",
       "Pave     78\n",
       "Name: Alley, dtype: int64"
      ]
     },
     "execution_count": 33,
     "metadata": {},
     "output_type": "execute_result"
    }
   ],
   "source": [
    "df_mvi[\"Alley\"].value_counts()"
   ]
  },
  {
   "cell_type": "code",
   "execution_count": 34,
   "id": "a0b8bafd",
   "metadata": {},
   "outputs": [
    {
     "data": {
      "text/plain": [
       "0"
      ]
     },
     "execution_count": 34,
     "metadata": {},
     "output_type": "execute_result"
    }
   ],
   "source": [
    "alley_cont=\"NA\"\n",
    "df_mvi[\"Alley\"].replace(np.nan,alley_cont,inplace=True)\n",
    "df_mvi[\"Alley\"].isnull().sum()"
   ]
  },
  {
   "cell_type": "code",
   "execution_count": 35,
   "id": "9c28c2d4",
   "metadata": {},
   "outputs": [
    {
     "name": "stderr",
     "output_type": "stream",
     "text": [
      "C:\\ProgramData\\Anaconda3\\lib\\site-packages\\seaborn\\_decorators.py:36: FutureWarning: Pass the following variable as a keyword arg: x. From version 0.12, the only valid positional argument will be `data`, and passing other arguments without an explicit keyword will result in an error or misinterpretation.\n",
      "  warnings.warn(\n",
      "C:\\ProgramData\\Anaconda3\\lib\\site-packages\\seaborn\\_decorators.py:36: FutureWarning: Pass the following variable as a keyword arg: x. From version 0.12, the only valid positional argument will be `data`, and passing other arguments without an explicit keyword will result in an error or misinterpretation.\n",
      "  warnings.warn(\n"
     ]
    },
    {
     "data": {
      "image/png": "[encoded data removed]",
      "text/plain": [
       "<Figure size 432x288 with 2 Axes>"
      ]
     },
     "metadata": {
      "needs_background": "light"
     },
     "output_type": "display_data"
    }
   ],
   "source": [
    "oldNewCountPlot(df, df_mvi,\"Alley\")"
   ]
  },
  {
   "cell_type": "markdown",
   "id": "ae774995",
   "metadata": {},
   "source": [
    "### Handling LotFrontage = 16.649538"
   ]
  },
  {
   "cell_type": "code",
   "execution_count": 36,
   "id": "ecb6f3e8",
   "metadata": {},
   "outputs": [],
   "source": [
    "def boxHistPlot(df, figsize=(16,5)):\n",
    "    plt.figure(figsize=figsize)\n",
    "    plt.subplot(121)\n",
    "    sns.boxplot(df)\n",
    "    plt.subplot(122)\n",
    "    sns.distplot(df)"
   ]
  },
  {
   "cell_type": "code",
   "execution_count": 37,
   "id": "24498d6e",
   "metadata": {},
   "outputs": [
    {
     "name": "stderr",
     "output_type": "stream",
     "text": [
      "C:\\ProgramData\\Anaconda3\\lib\\site-packages\\seaborn\\_decorators.py:36: FutureWarning: Pass the following variable as a keyword arg: x. From version 0.12, the only valid positional argument will be `data`, and passing other arguments without an explicit keyword will result in an error or misinterpretation.\n",
      "  warnings.warn(\n",
      "C:\\ProgramData\\Anaconda3\\lib\\site-packages\\seaborn\\distributions.py:2619: FutureWarning: `distplot` is a deprecated function and will be removed in a future version. Please adapt your code to use either `displot` (a figure-level function with similar flexibility) or `histplot` (an axes-level function for histograms).\n",
      "  warnings.warn(msg, FutureWarning)\n"
     ]
    },
    {
     "data": {
      "image/png": "[encoded data removed]",
      "text/plain": [
       "<Figure size 1152x360 with 2 Axes>"
      ]
     },
     "metadata": {
      "needs_background": "light"
     },
     "output_type": "display_data"
    }
   ],
   "source": [
    "boxHistPlot(df[\"LotFrontage\"])"
   ]
  },
  {
   "cell_type": "code",
   "execution_count": 38,
   "id": "67239014",
   "metadata": {},
   "outputs": [
    {
     "data": {
      "text/plain": [
       "0"
      ]
     },
     "execution_count": 38,
     "metadata": {},
     "output_type": "execute_result"
    }
   ],
   "source": [
    "lotfrontage_mean = df[\"LotFrontage\"].mean()\n",
    "df_mvi[\"LotFrontage\"].replace(np.nan,lotfrontage_mean,inplace=True)\n",
    "df_mvi[\"LotFrontage\"].isnull().sum()"
   ]
  },
  {
   "cell_type": "code",
   "execution_count": 39,
   "id": "b7c0bc2b",
   "metadata": {},
   "outputs": [],
   "source": [
    "def oldNewBoxHistPlot(df, df_new,feature,figsize=(16,10)):\n",
    "    plt.figure(figsize=figsize)\n",
    "    plt.subplot(221)\n",
    "    sns.boxplot(df[feature])\n",
    "    plt.title(\"Old Data Distribution\")\n",
    "    plt.subplot(222)\n",
    "    sns.distplot(df[feature])\n",
    "    plt.title(\"Old Data Distribution\")\n",
    "    plt.subplot(223)\n",
    "    sns.boxplot(df_new[feature])\n",
    "    plt.title(\"New Data Distribution\")\n",
    "    plt.subplot(224)\n",
    "    sns.distplot(df_new[feature])\n",
    "    plt.title(\"New Data Distribution\")"
   ]
  },
  {
   "cell_type": "code",
   "execution_count": 40,
   "id": "6c87f934",
   "metadata": {},
   "outputs": [
    {
     "name": "stderr",
     "output_type": "stream",
     "text": [
      "C:\\ProgramData\\Anaconda3\\lib\\site-packages\\seaborn\\_decorators.py:36: FutureWarning: Pass the following variable as a keyword arg: x. From version 0.12, the only valid positional argument will be `data`, and passing other arguments without an explicit keyword will result in an error or misinterpretation.\n",
      "  warnings.warn(\n",
      "C:\\ProgramData\\Anaconda3\\lib\\site-packages\\seaborn\\distributions.py:2619: FutureWarning: `distplot` is a deprecated function and will be removed in a future version. Please adapt your code to use either `displot` (a figure-level function with similar flexibility) or `histplot` (an axes-level function for histograms).\n",
      "  warnings.warn(msg, FutureWarning)\n",
      "C:\\ProgramData\\Anaconda3\\lib\\site-packages\\seaborn\\_decorators.py:36: FutureWarning: Pass the following variable as a keyword arg: x. From version 0.12, the only valid positional argument will be `data`, and passing other arguments without an explicit keyword will result in an error or misinterpretation.\n",
      "  warnings.warn(\n",
      "C:\\ProgramData\\Anaconda3\\lib\\site-packages\\seaborn\\distributions.py:2619: FutureWarning: `distplot` is a deprecated function and will be removed in a future version. Please adapt your code to use either `displot` (a figure-level function with similar flexibility) or `histplot` (an axes-level function for histograms).\n",
      "  warnings.warn(msg, FutureWarning)\n"
     ]
    },
    {
     "data": {
      "image/png": "[encoded data removed]",
      "text/plain": [
       "<Figure size 1152x720 with 4 Axes>"
      ]
     },
     "metadata": {
      "needs_background": "light"
     },
     "output_type": "display_data"
    }
   ],
   "source": [
    "oldNewBoxHistPlot(df, df_mvi,\"LotFrontage\")"
   ]
  },
  {
   "cell_type": "markdown",
   "id": "5bdc1ed8",
   "metadata": {},
   "source": [
    "### Handling Utilities = 0.068517"
   ]
  },
  {
   "cell_type": "code",
   "execution_count": 41,
   "id": "e996cf8d",
   "metadata": {},
   "outputs": [
    {
     "data": {
      "text/plain": [
       "AllPub    2916\n",
       "NoSeWa       1\n",
       "Name: Utilities, dtype: int64"
      ]
     },
     "execution_count": 41,
     "metadata": {},
     "output_type": "execute_result"
    }
   ],
   "source": [
    "df[\"Utilities\"].value_counts()"
   ]
  },
  {
   "cell_type": "code",
   "execution_count": 42,
   "id": "c9b8c97a",
   "metadata": {},
   "outputs": [
    {
     "data": {
      "text/plain": [
       "0"
      ]
     },
     "execution_count": 42,
     "metadata": {},
     "output_type": "execute_result"
    }
   ],
   "source": [
    "lotfrontage_mode = df[\"Utilities\"].mode()[0]\n",
    "df_mvi[\"Utilities\"].replace(np.nan,lotfrontage_mode,inplace=True)\n",
    "df_mvi[\"Utilities\"].isnull().sum()"
   ]
  },
  {
   "cell_type": "markdown",
   "id": "1257cd5f",
   "metadata": {},
   "source": [
    "### Handling Exterior1st  = 0.034258 and Exterior2nd = 0.034258"
   ]
  },
  {
   "cell_type": "code",
   "execution_count": 43,
   "id": "bb942c5d",
   "metadata": {},
   "outputs": [
    {
     "data": {
      "text/plain": [
       "VinylSd    1025\n",
       "MetalSd     450\n",
       "HdBoard     442\n",
       "Wd Sdng     411\n",
       "Plywood     221\n",
       "CemntBd     126\n",
       "BrkFace      87\n",
       "WdShing      56\n",
       "AsbShng      44\n",
       "Stucco       43\n",
       "BrkComm       6\n",
       "AsphShn       2\n",
       "Stone         2\n",
       "CBlock        2\n",
       "ImStucc       1\n",
       "Name: Exterior1st, dtype: int64"
      ]
     },
     "execution_count": 43,
     "metadata": {},
     "output_type": "execute_result"
    }
   ],
   "source": [
    "df[\"Exterior1st\"].value_counts()"
   ]
  },
  {
   "cell_type": "code",
   "execution_count": 44,
   "id": "7a599d35",
   "metadata": {},
   "outputs": [
    {
     "data": {
      "text/plain": [
       "VinylSd    1014\n",
       "MetalSd     447\n",
       "HdBoard     406\n",
       "Wd Sdng     391\n",
       "Plywood     270\n",
       "CmentBd     126\n",
       "Wd Shng      81\n",
       "BrkFace      47\n",
       "Stucco       47\n",
       "AsbShng      38\n",
       "Brk Cmn      22\n",
       "ImStucc      15\n",
       "Stone         6\n",
       "AsphShn       4\n",
       "CBlock        3\n",
       "Other         1\n",
       "Name: Exterior2nd, dtype: int64"
      ]
     },
     "execution_count": 44,
     "metadata": {},
     "output_type": "execute_result"
    }
   ],
   "source": [
    "df[\"Exterior2nd\"].value_counts()"
   ]
  },
  {
   "cell_type": "code",
   "execution_count": 45,
   "id": "95ffdc7b",
   "metadata": {},
   "outputs": [
    {
     "name": "stdout",
     "output_type": "stream",
     "text": [
      "E1st is null :  0\n",
      "E2nd is null :  0\n"
     ]
    }
   ],
   "source": [
    "exterior1st_mode = df[\"Exterior1st\"].mode()[0]\n",
    "exterior2nd_mode = df[\"Exterior2nd\"].mode()[0]\n",
    "df_mvi[\"Exterior1st\"].replace(np.nan,exterior1st_mode,inplace=True)\n",
    "df_mvi[\"Exterior2nd\"].replace(np.nan,exterior2nd_mode,inplace=True)\n",
    "print(\"E1st is null : \" , df_mvi[\"Exterior1st\"].isnull().sum())\n",
    "print(\"E2nd is null : \" , df_mvi[\"Exterior2nd\"].isnull().sum())"
   ]
  },
  {
   "cell_type": "markdown",
   "id": "a02e9a83",
   "metadata": {},
   "source": [
    "### Handling MasVnrType = 0.822199 and MasVnrArea = 0.787941"
   ]
  },
  {
   "cell_type": "code",
   "execution_count": 46,
   "id": "e7a5ee2e",
   "metadata": {},
   "outputs": [
    {
     "data": {
      "text/plain": [
       "<AxesSubplot:ylabel='Id'>"
      ]
     },
     "execution_count": 46,
     "metadata": {},
     "output_type": "execute_result"
    },
    {
     "data": {
      "image/png": "[encoded data removed]",
      "text/plain": [
       "<Figure size 432x288 with 2 Axes>"
      ]
     },
     "metadata": {
      "needs_background": "light"
     },
     "output_type": "display_data"
    }
   ],
   "source": [
    "sns.heatmap(df[[\"MasVnrType\",\"MasVnrArea\"]].isnull())"
   ]
  },
  {
   "cell_type": "code",
   "execution_count": 47,
   "id": "af5ee533",
   "metadata": {},
   "outputs": [
    {
     "data": {
      "text/plain": [
       "None       1742\n",
       "BrkFace     879\n",
       "Stone       249\n",
       "BrkCmn       25\n",
       "Name: MasVnrType, dtype: int64"
      ]
     },
     "execution_count": 47,
     "metadata": {},
     "output_type": "execute_result"
    }
   ],
   "source": [
    "df[\"MasVnrType\"].value_counts()"
   ]
  },
  {
   "cell_type": "code",
   "execution_count": 48,
   "id": "cd6e72ab",
   "metadata": {},
   "outputs": [
    {
     "data": {
      "text/plain": [
       "0"
      ]
     },
     "execution_count": 48,
     "metadata": {},
     "output_type": "execute_result"
    }
   ],
   "source": [
    "masVnrType_mode = df[\"MasVnrType\"].mode()[0]\n",
    "df_mvi[\"MasVnrType\"].replace(np.nan,masVnrType_mode,inplace=True)\n",
    "df_mvi[\"MasVnrType\"].isnull().sum()"
   ]
  },
  {
   "cell_type": "code",
   "execution_count": 49,
   "id": "5ba99229",
   "metadata": {},
   "outputs": [
    {
     "name": "stderr",
     "output_type": "stream",
     "text": [
      "C:\\ProgramData\\Anaconda3\\lib\\site-packages\\seaborn\\_decorators.py:36: FutureWarning: Pass the following variable as a keyword arg: x. From version 0.12, the only valid positional argument will be `data`, and passing other arguments without an explicit keyword will result in an error or misinterpretation.\n",
      "  warnings.warn(\n",
      "C:\\ProgramData\\Anaconda3\\lib\\site-packages\\seaborn\\distributions.py:2619: FutureWarning: `distplot` is a deprecated function and will be removed in a future version. Please adapt your code to use either `displot` (a figure-level function with similar flexibility) or `histplot` (an axes-level function for histograms).\n",
      "  warnings.warn(msg, FutureWarning)\n"
     ]
    },
    {
     "data": {
      "image/png": "[encoded data removed]",
      "text/plain": [
       "<Figure size 1152x360 with 2 Axes>"
      ]
     },
     "metadata": {
      "needs_background": "light"
     },
     "output_type": "display_data"
    }
   ],
   "source": [
    "boxHistPlot(df[\"MasVnrArea\"])"
   ]
  },
  {
   "cell_type": "code",
   "execution_count": 50,
   "id": "4af3dedd",
   "metadata": {},
   "outputs": [
    {
     "data": {
      "text/plain": [
       "0"
      ]
     },
     "execution_count": 50,
     "metadata": {},
     "output_type": "execute_result"
    }
   ],
   "source": [
    "masVnrarea_cont = 0\n",
    "df_mvi[\"MasVnrArea\"].replace(np.nan,masVnrarea_cont,inplace=True)\n",
    "df_mvi[\"MasVnrArea\"].isnull().sum()"
   ]
  },
  {
   "cell_type": "markdown",
   "id": "5c13409b",
   "metadata": {},
   "source": [
    "### Handling Bsmt features"
   ]
  },
  {
   "cell_type": "code",
   "execution_count": 51,
   "id": "77b7280f",
   "metadata": {},
   "outputs": [
    {
     "data": {
      "text/plain": [
       "'\"\"\\nBsmtQual         2.774923\\nBsmtCond         2.809181\\nBsmtExposure     2.809181\\nBsmtFinType1     2.706406\\nBsmtFinType2     2.740665\\n\\nBsmtFinSF1       0.034258\\nBsmtFinSF2       0.034258\\nBsmtUnfSF        0.034258\\nTotalBsmtSF      0.034258\\nBsmtFullBath     0.068517\\nBsmtHalfBath     0.068517'"
      ]
     },
     "execution_count": 51,
     "metadata": {},
     "output_type": "execute_result"
    }
   ],
   "source": [
    "\"\"\"\"\"\n",
    "BsmtQual         2.774923\n",
    "BsmtCond         2.809181\n",
    "BsmtExposure     2.809181\n",
    "BsmtFinType1     2.706406\n",
    "BsmtFinType2     2.740665\n",
    "\n",
    "BsmtFinSF1       0.034258\n",
    "BsmtFinSF2       0.034258\n",
    "BsmtUnfSF        0.034258\n",
    "TotalBsmtSF      0.034258\n",
    "BsmtFullBath     0.068517\n",
    "BsmtHalfBath     0.068517\"\"\""
   ]
  },
  {
   "cell_type": "code",
   "execution_count": 52,
   "id": "4fe65867",
   "metadata": {},
   "outputs": [],
   "source": [
    "cat_bsmt_feat=[\"BsmtQual\" ,       \n",
    "\"BsmtCond\"  ,     \n",
    "\"BsmtExposure\"  ,  \n",
    "\"BsmtFinType1\"   ,  \n",
    "\"BsmtFinType2\"]     \n",
    "\n",
    "num_bsmt_feat=[\"BsmtFinSF1\",\n",
    "\"BsmtFinSF2\" ,      \n",
    "\"BsmtUnfSF\",       \n",
    "\"TotalBsmtSF\" ,     \n",
    "\"BsmtFullBath\" ,    \n",
    "\"BsmtHalfBath\" ]    "
   ]
  },
  {
   "cell_type": "code",
   "execution_count": 53,
   "id": "a1086c46",
   "metadata": {},
   "outputs": [
    {
     "data": {
      "text/plain": [
       "<AxesSubplot:ylabel='Id'>"
      ]
     },
     "execution_count": 53,
     "metadata": {},
     "output_type": "execute_result"
    },
    {
     "data": {
      "image/png": "[encoded data removed]",
      "text/plain": [
       "<Figure size 432x288 with 2 Axes>"
      ]
     },
     "metadata": {
      "needs_background": "light"
     },
     "output_type": "display_data"
    }
   ],
   "source": [
    "sns.heatmap(df[cat_bsmt_feat].isnull())"
   ]
  },
  {
   "cell_type": "code",
   "execution_count": 54,
   "id": "2008096e",
   "metadata": {},
   "outputs": [
    {
     "name": "stdout",
     "output_type": "stream",
     "text": [
      "Value count of BsmtQual: TA    1283\n",
      "Gd    1209\n",
      "Ex     258\n",
      "Fa      88\n",
      "Name: BsmtQual, dtype: int64\n",
      "Value count of BsmtCond: TA    2606\n",
      "Gd     122\n",
      "Fa     104\n",
      "Po       5\n",
      "Name: BsmtCond, dtype: int64\n",
      "Value count of BsmtExposure: No    1904\n",
      "Av     418\n",
      "Gd     276\n",
      "Mn     239\n",
      "Name: BsmtExposure, dtype: int64\n",
      "Value count of BsmtFinType1: Unf    851\n",
      "GLQ    849\n",
      "ALQ    429\n",
      "Rec    288\n",
      "BLQ    269\n",
      "LwQ    154\n",
      "Name: BsmtFinType1, dtype: int64\n",
      "Value count of BsmtFinType2: Unf    2493\n",
      "Rec     105\n",
      "LwQ      87\n",
      "BLQ      68\n",
      "ALQ      52\n",
      "GLQ      34\n",
      "Name: BsmtFinType2, dtype: int64\n"
     ]
    }
   ],
   "source": [
    "for feat in cat_bsmt_feat:\n",
    "    print(f\"Value count of {feat}: {df[feat].value_counts()}\")"
   ]
  },
  {
   "cell_type": "code",
   "execution_count": 55,
   "id": "5cff27ee",
   "metadata": {},
   "outputs": [],
   "source": [
    "bsmt_cont=\"NA\"\n",
    "for feat in cat_bsmt_feat:\n",
    "    df_mvi[feat].replace(np.nan,bsmt_cont,inplace=True)"
   ]
  },
  {
   "cell_type": "code",
   "execution_count": 56,
   "id": "af0af3dc",
   "metadata": {},
   "outputs": [
    {
     "data": {
      "text/plain": [
       "BsmtQual        0\n",
       "BsmtCond        0\n",
       "BsmtExposure    0\n",
       "BsmtFinType1    0\n",
       "BsmtFinType2    0\n",
       "dtype: int64"
      ]
     },
     "execution_count": 56,
     "metadata": {},
     "output_type": "execute_result"
    }
   ],
   "source": [
    "df_mvi[cat_bsmt_feat].isnull().sum()"
   ]
  },
  {
   "cell_type": "code",
   "execution_count": 57,
   "id": "8d12c9ce",
   "metadata": {},
   "outputs": [
    {
     "data": {
      "text/plain": [
       "<AxesSubplot:ylabel='Id'>"
      ]
     },
     "execution_count": 57,
     "metadata": {},
     "output_type": "execute_result"
    },
    {
     "data": {
      "image/png": "[encoded data removed]",
      "text/plain": [
       "<Figure size 432x288 with 2 Axes>"
      ]
     },
     "metadata": {
      "needs_background": "light"
     },
     "output_type": "display_data"
    }
   ],
   "source": [
    "sns.heatmap(df[num_bsmt_feat].isnull())"
   ]
  },
  {
   "cell_type": "code",
   "execution_count": 58,
   "id": "540f1223",
   "metadata": {},
   "outputs": [
    {
     "data": {
      "text/html": [
       "<div>\n",
       "<style scoped>\n",
       "    .dataframe tbody tr th:only-of-type {\n",
       "        vertical-align: middle;\n",
       "    }\n",
       "\n",
       "    .dataframe tbody tr th {\n",
       "        vertical-align: top;\n",
       "    }\n",
       "\n",
       "    .dataframe thead th {\n",
       "        text-align: right;\n",
       "    }\n",
       "</style>\n",
       "<table border=\"1\" class=\"dataframe\">\n",
       "  <thead>\n",
       "    <tr style=\"text-align: right;\">\n",
       "      <th></th>\n",
       "      <th>BsmtQual</th>\n",
       "      <th>BsmtCond</th>\n",
       "      <th>BsmtExposure</th>\n",
       "      <th>BsmtFinType1</th>\n",
       "      <th>BsmtFinType2</th>\n",
       "      <th>BsmtFinSF1</th>\n",
       "      <th>BsmtFinSF2</th>\n",
       "      <th>BsmtUnfSF</th>\n",
       "      <th>TotalBsmtSF</th>\n",
       "      <th>BsmtFullBath</th>\n",
       "      <th>BsmtHalfBath</th>\n",
       "    </tr>\n",
       "    <tr>\n",
       "      <th>Id</th>\n",
       "      <th></th>\n",
       "      <th></th>\n",
       "      <th></th>\n",
       "      <th></th>\n",
       "      <th></th>\n",
       "      <th></th>\n",
       "      <th></th>\n",
       "      <th></th>\n",
       "      <th></th>\n",
       "      <th></th>\n",
       "      <th></th>\n",
       "    </tr>\n",
       "  </thead>\n",
       "  <tbody>\n",
       "    <tr>\n",
       "      <th>18</th>\n",
       "      <td>NaN</td>\n",
       "      <td>NaN</td>\n",
       "      <td>NaN</td>\n",
       "      <td>NaN</td>\n",
       "      <td>NaN</td>\n",
       "      <td>0.0</td>\n",
       "      <td>0.0</td>\n",
       "      <td>0.0</td>\n",
       "      <td>0.0</td>\n",
       "      <td>0.0</td>\n",
       "      <td>0.0</td>\n",
       "    </tr>\n",
       "    <tr>\n",
       "      <th>40</th>\n",
       "      <td>NaN</td>\n",
       "      <td>NaN</td>\n",
       "      <td>NaN</td>\n",
       "      <td>NaN</td>\n",
       "      <td>NaN</td>\n",
       "      <td>0.0</td>\n",
       "      <td>0.0</td>\n",
       "      <td>0.0</td>\n",
       "      <td>0.0</td>\n",
       "      <td>0.0</td>\n",
       "      <td>0.0</td>\n",
       "    </tr>\n",
       "    <tr>\n",
       "      <th>91</th>\n",
       "      <td>NaN</td>\n",
       "      <td>NaN</td>\n",
       "      <td>NaN</td>\n",
       "      <td>NaN</td>\n",
       "      <td>NaN</td>\n",
       "      <td>0.0</td>\n",
       "      <td>0.0</td>\n",
       "      <td>0.0</td>\n",
       "      <td>0.0</td>\n",
       "      <td>0.0</td>\n",
       "      <td>0.0</td>\n",
       "    </tr>\n",
       "    <tr>\n",
       "      <th>103</th>\n",
       "      <td>NaN</td>\n",
       "      <td>NaN</td>\n",
       "      <td>NaN</td>\n",
       "      <td>NaN</td>\n",
       "      <td>NaN</td>\n",
       "      <td>0.0</td>\n",
       "      <td>0.0</td>\n",
       "      <td>0.0</td>\n",
       "      <td>0.0</td>\n",
       "      <td>0.0</td>\n",
       "      <td>0.0</td>\n",
       "    </tr>\n",
       "    <tr>\n",
       "      <th>157</th>\n",
       "      <td>NaN</td>\n",
       "      <td>NaN</td>\n",
       "      <td>NaN</td>\n",
       "      <td>NaN</td>\n",
       "      <td>NaN</td>\n",
       "      <td>0.0</td>\n",
       "      <td>0.0</td>\n",
       "      <td>0.0</td>\n",
       "      <td>0.0</td>\n",
       "      <td>0.0</td>\n",
       "      <td>0.0</td>\n",
       "    </tr>\n",
       "    <tr>\n",
       "      <th>...</th>\n",
       "      <td>...</td>\n",
       "      <td>...</td>\n",
       "      <td>...</td>\n",
       "      <td>...</td>\n",
       "      <td>...</td>\n",
       "      <td>...</td>\n",
       "      <td>...</td>\n",
       "      <td>...</td>\n",
       "      <td>...</td>\n",
       "      <td>...</td>\n",
       "      <td>...</td>\n",
       "    </tr>\n",
       "    <tr>\n",
       "      <th>2804</th>\n",
       "      <td>NaN</td>\n",
       "      <td>NaN</td>\n",
       "      <td>NaN</td>\n",
       "      <td>NaN</td>\n",
       "      <td>NaN</td>\n",
       "      <td>0.0</td>\n",
       "      <td>0.0</td>\n",
       "      <td>0.0</td>\n",
       "      <td>0.0</td>\n",
       "      <td>0.0</td>\n",
       "      <td>0.0</td>\n",
       "    </tr>\n",
       "    <tr>\n",
       "      <th>2805</th>\n",
       "      <td>NaN</td>\n",
       "      <td>NaN</td>\n",
       "      <td>NaN</td>\n",
       "      <td>NaN</td>\n",
       "      <td>NaN</td>\n",
       "      <td>0.0</td>\n",
       "      <td>0.0</td>\n",
       "      <td>0.0</td>\n",
       "      <td>0.0</td>\n",
       "      <td>0.0</td>\n",
       "      <td>0.0</td>\n",
       "    </tr>\n",
       "    <tr>\n",
       "      <th>2825</th>\n",
       "      <td>NaN</td>\n",
       "      <td>NaN</td>\n",
       "      <td>NaN</td>\n",
       "      <td>NaN</td>\n",
       "      <td>NaN</td>\n",
       "      <td>0.0</td>\n",
       "      <td>0.0</td>\n",
       "      <td>0.0</td>\n",
       "      <td>0.0</td>\n",
       "      <td>0.0</td>\n",
       "      <td>0.0</td>\n",
       "    </tr>\n",
       "    <tr>\n",
       "      <th>2892</th>\n",
       "      <td>NaN</td>\n",
       "      <td>NaN</td>\n",
       "      <td>NaN</td>\n",
       "      <td>NaN</td>\n",
       "      <td>NaN</td>\n",
       "      <td>0.0</td>\n",
       "      <td>0.0</td>\n",
       "      <td>0.0</td>\n",
       "      <td>0.0</td>\n",
       "      <td>0.0</td>\n",
       "      <td>0.0</td>\n",
       "    </tr>\n",
       "    <tr>\n",
       "      <th>2905</th>\n",
       "      <td>NaN</td>\n",
       "      <td>NaN</td>\n",
       "      <td>NaN</td>\n",
       "      <td>NaN</td>\n",
       "      <td>NaN</td>\n",
       "      <td>0.0</td>\n",
       "      <td>0.0</td>\n",
       "      <td>0.0</td>\n",
       "      <td>0.0</td>\n",
       "      <td>0.0</td>\n",
       "      <td>0.0</td>\n",
       "    </tr>\n",
       "  </tbody>\n",
       "</table>\n",
       "<p>88 rows × 11 columns</p>\n",
       "</div>"
      ],
      "text/plain": [
       "     BsmtQual BsmtCond BsmtExposure BsmtFinType1 BsmtFinType2  BsmtFinSF1  \\\n",
       "Id                                                                          \n",
       "18        NaN      NaN          NaN          NaN          NaN         0.0   \n",
       "40        NaN      NaN          NaN          NaN          NaN         0.0   \n",
       "91        NaN      NaN          NaN          NaN          NaN         0.0   \n",
       "103       NaN      NaN          NaN          NaN          NaN         0.0   \n",
       "157       NaN      NaN          NaN          NaN          NaN         0.0   \n",
       "...       ...      ...          ...          ...          ...         ...   \n",
       "2804      NaN      NaN          NaN          NaN          NaN         0.0   \n",
       "2805      NaN      NaN          NaN          NaN          NaN         0.0   \n",
       "2825      NaN      NaN          NaN          NaN          NaN         0.0   \n",
       "2892      NaN      NaN          NaN          NaN          NaN         0.0   \n",
       "2905      NaN      NaN          NaN          NaN          NaN         0.0   \n",
       "\n",
       "      BsmtFinSF2  BsmtUnfSF  TotalBsmtSF  BsmtFullBath  BsmtHalfBath  \n",
       "Id                                                                    \n",
       "18           0.0        0.0          0.0           0.0           0.0  \n",
       "40           0.0        0.0          0.0           0.0           0.0  \n",
       "91           0.0        0.0          0.0           0.0           0.0  \n",
       "103          0.0        0.0          0.0           0.0           0.0  \n",
       "157          0.0        0.0          0.0           0.0           0.0  \n",
       "...          ...        ...          ...           ...           ...  \n",
       "2804         0.0        0.0          0.0           0.0           0.0  \n",
       "2805         0.0        0.0          0.0           0.0           0.0  \n",
       "2825         0.0        0.0          0.0           0.0           0.0  \n",
       "2892         0.0        0.0          0.0           0.0           0.0  \n",
       "2905         0.0        0.0          0.0           0.0           0.0  \n",
       "\n",
       "[88 rows x 11 columns]"
      ]
     },
     "execution_count": 58,
     "metadata": {},
     "output_type": "execute_result"
    }
   ],
   "source": [
    "df_bsmt=df[cat_bsmt_feat + num_bsmt_feat]\n",
    "df_bsmt[df_bsmt.isnull().any(axis=1)]"
   ]
  },
  {
   "cell_type": "code",
   "execution_count": 59,
   "id": "2ac770a5",
   "metadata": {},
   "outputs": [],
   "source": [
    "bsmt_num=0\n",
    "for feat in num_bsmt_feat:\n",
    "    df_mvi[feat].replace(np.nan,bsmt_num,inplace=True)"
   ]
  },
  {
   "cell_type": "code",
   "execution_count": 60,
   "id": "fb89b52e",
   "metadata": {},
   "outputs": [
    {
     "data": {
      "text/plain": [
       "BsmtFinSF1      0\n",
       "BsmtFinSF2      0\n",
       "BsmtUnfSF       0\n",
       "TotalBsmtSF     0\n",
       "BsmtFullBath    0\n",
       "BsmtHalfBath    0\n",
       "dtype: int64"
      ]
     },
     "execution_count": 60,
     "metadata": {},
     "output_type": "execute_result"
    }
   ],
   "source": [
    "df_mvi[num_bsmt_feat].isnull().sum()"
   ]
  },
  {
   "cell_type": "markdown",
   "id": "c1340467",
   "metadata": {},
   "source": [
    "### Handling Electrical = 0.034258 and KitchenQual = 0.034258"
   ]
  },
  {
   "cell_type": "code",
   "execution_count": 61,
   "id": "4b8b9600",
   "metadata": {},
   "outputs": [
    {
     "data": {
      "text/plain": [
       "SBrkr    2671\n",
       "FuseA     188\n",
       "FuseF      50\n",
       "FuseP       8\n",
       "Mix         1\n",
       "Name: Electrical, dtype: int64"
      ]
     },
     "execution_count": 61,
     "metadata": {},
     "output_type": "execute_result"
    }
   ],
   "source": [
    "df[\"Electrical\"].value_counts()"
   ]
  },
  {
   "cell_type": "code",
   "execution_count": 62,
   "id": "16043a1a",
   "metadata": {},
   "outputs": [
    {
     "data": {
      "text/plain": [
       "TA    1492\n",
       "Gd    1151\n",
       "Ex     205\n",
       "Fa      70\n",
       "Name: KitchenQual, dtype: int64"
      ]
     },
     "execution_count": 62,
     "metadata": {},
     "output_type": "execute_result"
    }
   ],
   "source": [
    "df[\"KitchenQual\"].value_counts()"
   ]
  },
  {
   "cell_type": "code",
   "execution_count": 63,
   "id": "e5343cc0",
   "metadata": {},
   "outputs": [
    {
     "data": {
      "text/html": [
       "<div>\n",
       "<style scoped>\n",
       "    .dataframe tbody tr th:only-of-type {\n",
       "        vertical-align: middle;\n",
       "    }\n",
       "\n",
       "    .dataframe tbody tr th {\n",
       "        vertical-align: top;\n",
       "    }\n",
       "\n",
       "    .dataframe thead th {\n",
       "        text-align: right;\n",
       "    }\n",
       "</style>\n",
       "<table border=\"1\" class=\"dataframe\">\n",
       "  <thead>\n",
       "    <tr style=\"text-align: right;\">\n",
       "      <th></th>\n",
       "      <th>Electrical</th>\n",
       "      <th>KitchenQual</th>\n",
       "      <th>KitchenAbvGr</th>\n",
       "    </tr>\n",
       "    <tr>\n",
       "      <th>Id</th>\n",
       "      <th></th>\n",
       "      <th></th>\n",
       "      <th></th>\n",
       "    </tr>\n",
       "  </thead>\n",
       "  <tbody>\n",
       "    <tr>\n",
       "      <th>1380</th>\n",
       "      <td>NaN</td>\n",
       "      <td>Gd</td>\n",
       "      <td>1</td>\n",
       "    </tr>\n",
       "    <tr>\n",
       "      <th>1556</th>\n",
       "      <td>SBrkr</td>\n",
       "      <td>NaN</td>\n",
       "      <td>1</td>\n",
       "    </tr>\n",
       "  </tbody>\n",
       "</table>\n",
       "</div>"
      ],
      "text/plain": [
       "     Electrical KitchenQual  KitchenAbvGr\n",
       "Id                                       \n",
       "1380        NaN          Gd             1\n",
       "1556      SBrkr         NaN             1"
      ]
     },
     "execution_count": 63,
     "metadata": {},
     "output_type": "execute_result"
    }
   ],
   "source": [
    "df_ekk=df[[\"Electrical\",\"KitchenQual\",\"KitchenAbvGr\"]]\n",
    "df_ekk[df_ekk.isnull().any(axis=1)]"
   ]
  },
  {
   "cell_type": "code",
   "execution_count": 64,
   "id": "17995691",
   "metadata": {},
   "outputs": [
    {
     "data": {
      "text/plain": [
       "0"
      ]
     },
     "execution_count": 64,
     "metadata": {},
     "output_type": "execute_result"
    }
   ],
   "source": [
    "electrical_mode = df[\"Electrical\"].mode()[0]\n",
    "df_mvi[\"Electrical\"].replace(np.nan,electrical_mode,inplace=True)\n",
    "df_mvi[\"Electrical\"].isnull().sum()"
   ]
  },
  {
   "cell_type": "code",
   "execution_count": 65,
   "id": "a1ba8a6a",
   "metadata": {},
   "outputs": [
    {
     "data": {
      "text/plain": [
       "0"
      ]
     },
     "execution_count": 65,
     "metadata": {},
     "output_type": "execute_result"
    }
   ],
   "source": [
    "kitchenQual_mode = df[\"KitchenQual\"].mode()[0]\n",
    "df_mvi[\"KitchenQual\"].replace(np.nan,kitchenQual_mode,inplace=True)\n",
    "df_mvi[\"KitchenQual\"].isnull().sum()"
   ]
  },
  {
   "cell_type": "markdown",
   "id": "1aae10a9",
   "metadata": {},
   "source": [
    "### Handling remaining cat features"
   ]
  },
  {
   "cell_type": "code",
   "execution_count": 66,
   "id": "b16cb8a4",
   "metadata": {},
   "outputs": [
    {
     "data": {
      "text/plain": [
       "'\\nFunctional       0.068517\\nFireplaceQu     48.646797\\nPoolQC          99.657417\\nFence           80.438506\\nMiscFeature     96.402878\\nSaleType         0.034258\\n'"
      ]
     },
     "execution_count": 66,
     "metadata": {},
     "output_type": "execute_result"
    }
   ],
   "source": [
    "\"\"\"\n",
    "Functional       0.068517\n",
    "FireplaceQu     48.646797\n",
    "PoolQC          99.657417\n",
    "Fence           80.438506\n",
    "MiscFeature     96.402878\n",
    "SaleType         0.034258\n",
    "\"\"\""
   ]
  },
  {
   "cell_type": "code",
   "execution_count": 67,
   "id": "976e91be",
   "metadata": {},
   "outputs": [
    {
     "data": {
      "text/plain": [
       "Typ     2717\n",
       "Min2      70\n",
       "Min1      65\n",
       "Mod       35\n",
       "Maj1      19\n",
       "Maj2       9\n",
       "Sev        2\n",
       "Name: Functional, dtype: int64"
      ]
     },
     "execution_count": 67,
     "metadata": {},
     "output_type": "execute_result"
    }
   ],
   "source": [
    "df[\"Functional\"].value_counts()"
   ]
  },
  {
   "cell_type": "code",
   "execution_count": 68,
   "id": "b19bb465",
   "metadata": {},
   "outputs": [
    {
     "data": {
      "text/plain": [
       "WD       2525\n",
       "New       239\n",
       "COD        87\n",
       "ConLD      26\n",
       "CWD        12\n",
       "ConLI       9\n",
       "ConLw       8\n",
       "Oth         7\n",
       "Con         5\n",
       "Name: SaleType, dtype: int64"
      ]
     },
     "execution_count": 68,
     "metadata": {},
     "output_type": "execute_result"
    }
   ],
   "source": [
    "df[\"SaleType\"].value_counts()"
   ]
  },
  {
   "cell_type": "code",
   "execution_count": 69,
   "id": "d67d8b3c",
   "metadata": {},
   "outputs": [
    {
     "data": {
      "text/plain": [
       "0"
      ]
     },
     "execution_count": 69,
     "metadata": {},
     "output_type": "execute_result"
    }
   ],
   "source": [
    "functional_mode = df[\"Functional\"].mode()[0]\n",
    "df_mvi[\"Functional\"].replace(np.nan,functional_mode,inplace=True)\n",
    "df_mvi[\"Functional\"].isnull().sum()"
   ]
  },
  {
   "cell_type": "code",
   "execution_count": 70,
   "id": "9581c73c",
   "metadata": {},
   "outputs": [
    {
     "data": {
      "text/plain": [
       "0"
      ]
     },
     "execution_count": 70,
     "metadata": {},
     "output_type": "execute_result"
    }
   ],
   "source": [
    "saleType_mode = df[\"SaleType\"].mode()[0]\n",
    "df_mvi[\"SaleType\"].replace(np.nan,saleType_mode,inplace=True)\n",
    "df_mvi[\"SaleType\"].isnull().sum()"
   ]
  },
  {
   "cell_type": "code",
   "execution_count": 71,
   "id": "c5231c6d",
   "metadata": {},
   "outputs": [
    {
     "name": "stdout",
     "output_type": "stream",
     "text": [
      "Value count of FireplaceQu: Gd    744\n",
      "TA    592\n",
      "Fa     74\n",
      "Po     46\n",
      "Ex     43\n",
      "Name: FireplaceQu, dtype: int64\n",
      "Value count of PoolQC: Ex    4\n",
      "Gd    4\n",
      "Fa    2\n",
      "Name: PoolQC, dtype: int64\n",
      "Value count of Fence: MnPrv    329\n",
      "GdPrv    118\n",
      "GdWo     112\n",
      "MnWw      12\n",
      "Name: Fence, dtype: int64\n",
      "Value count of MiscFeature: Shed    95\n",
      "Gar2     5\n",
      "Othr     4\n",
      "TenC     1\n",
      "Name: MiscFeature, dtype: int64\n"
     ]
    }
   ],
   "source": [
    "other_cat_feat = [\"FireplaceQu\",   \n",
    "\"PoolQC\" ,       \n",
    "\"Fence\"  ,       \n",
    "\"MiscFeature\"  ]  \n",
    "\n",
    "for feat in other_cat_feat:\n",
    "    print(f\"Value count of {feat}: {df[feat].value_counts()}\")\n"
   ]
  },
  {
   "cell_type": "code",
   "execution_count": 72,
   "id": "e85af66c",
   "metadata": {},
   "outputs": [
    {
     "data": {
      "text/plain": [
       "0"
      ]
     },
     "execution_count": 72,
     "metadata": {},
     "output_type": "execute_result"
    }
   ],
   "source": [
    "fireplaceQu_cont= \"NA\"\n",
    "df_mvi[\"FireplaceQu\"].replace(np.nan,fireplaceQu_cont,inplace=True)\n",
    "df_mvi[\"FireplaceQu\"].isnull().sum()"
   ]
  },
  {
   "cell_type": "code",
   "execution_count": 73,
   "id": "faab0294",
   "metadata": {},
   "outputs": [
    {
     "data": {
      "text/plain": [
       "0"
      ]
     },
     "execution_count": 73,
     "metadata": {},
     "output_type": "execute_result"
    }
   ],
   "source": [
    "poolQC_cont= \"NA\"\n",
    "df_mvi[\"PoolQC\"].replace(np.nan,poolQC_cont,inplace=True)\n",
    "df_mvi[\"PoolQC\"].isnull().sum()"
   ]
  },
  {
   "cell_type": "code",
   "execution_count": 74,
   "id": "4abd78e2",
   "metadata": {},
   "outputs": [
    {
     "data": {
      "text/plain": [
       "0"
      ]
     },
     "execution_count": 74,
     "metadata": {},
     "output_type": "execute_result"
    }
   ],
   "source": [
    "fence_cont= \"NA\"\n",
    "df_mvi[\"Fence\"].replace(np.nan,fence_cont,inplace=True)\n",
    "df_mvi[\"Fence\"].isnull().sum()"
   ]
  },
  {
   "cell_type": "code",
   "execution_count": 75,
   "id": "09686225",
   "metadata": {},
   "outputs": [
    {
     "data": {
      "text/plain": [
       "0"
      ]
     },
     "execution_count": 75,
     "metadata": {},
     "output_type": "execute_result"
    }
   ],
   "source": [
    "miscFeature_cont= \"NA\"\n",
    "df_mvi[\"MiscFeature\"].replace(np.nan,miscFeature_cont,inplace=True)\n",
    "df_mvi[\"MiscFeature\"].isnull().sum()"
   ]
  },
  {
   "cell_type": "markdown",
   "id": "ef736293",
   "metadata": {},
   "source": [
    "### Handling Garage Features"
   ]
  },
  {
   "cell_type": "code",
   "execution_count": 76,
   "id": "ca72614a",
   "metadata": {},
   "outputs": [
    {
     "data": {
      "text/plain": [
       "'\\nGarageType       5.378554\\nGarageFinish     5.447071\\nGarageQual       5.447071\\nGarageCond       5.447071\\n\\nGarageYrBlt      5.447071\\nGarageCars       0.034258\\nGarageArea       0.034258\\n'"
      ]
     },
     "execution_count": 76,
     "metadata": {},
     "output_type": "execute_result"
    }
   ],
   "source": [
    "\"\"\"\n",
    "GarageType       5.378554\n",
    "GarageFinish     5.447071\n",
    "GarageQual       5.447071\n",
    "GarageCond       5.447071\n",
    "\n",
    "GarageYrBlt      5.447071\n",
    "GarageCars       0.034258\n",
    "GarageArea       0.034258\n",
    "\"\"\""
   ]
  },
  {
   "cell_type": "code",
   "execution_count": 77,
   "id": "6f613e6a",
   "metadata": {},
   "outputs": [
    {
     "data": {
      "text/html": [
       "<div>\n",
       "<style scoped>\n",
       "    .dataframe tbody tr th:only-of-type {\n",
       "        vertical-align: middle;\n",
       "    }\n",
       "\n",
       "    .dataframe tbody tr th {\n",
       "        vertical-align: top;\n",
       "    }\n",
       "\n",
       "    .dataframe thead th {\n",
       "        text-align: right;\n",
       "    }\n",
       "</style>\n",
       "<table border=\"1\" class=\"dataframe\">\n",
       "  <thead>\n",
       "    <tr style=\"text-align: right;\">\n",
       "      <th></th>\n",
       "      <th>GarageArea</th>\n",
       "      <th>GarageCars</th>\n",
       "      <th>GarageYrBlt</th>\n",
       "      <th>GarageType</th>\n",
       "      <th>GarageFinish</th>\n",
       "      <th>GarageQual</th>\n",
       "      <th>GarageCond</th>\n",
       "    </tr>\n",
       "    <tr>\n",
       "      <th>Id</th>\n",
       "      <th></th>\n",
       "      <th></th>\n",
       "      <th></th>\n",
       "      <th></th>\n",
       "      <th></th>\n",
       "      <th></th>\n",
       "      <th></th>\n",
       "    </tr>\n",
       "  </thead>\n",
       "  <tbody>\n",
       "    <tr>\n",
       "      <th>40</th>\n",
       "      <td>0.0</td>\n",
       "      <td>0.0</td>\n",
       "      <td>NaN</td>\n",
       "      <td>NaN</td>\n",
       "      <td>NaN</td>\n",
       "      <td>NaN</td>\n",
       "      <td>NaN</td>\n",
       "    </tr>\n",
       "    <tr>\n",
       "      <th>49</th>\n",
       "      <td>0.0</td>\n",
       "      <td>0.0</td>\n",
       "      <td>NaN</td>\n",
       "      <td>NaN</td>\n",
       "      <td>NaN</td>\n",
       "      <td>NaN</td>\n",
       "      <td>NaN</td>\n",
       "    </tr>\n",
       "    <tr>\n",
       "      <th>79</th>\n",
       "      <td>0.0</td>\n",
       "      <td>0.0</td>\n",
       "      <td>NaN</td>\n",
       "      <td>NaN</td>\n",
       "      <td>NaN</td>\n",
       "      <td>NaN</td>\n",
       "      <td>NaN</td>\n",
       "    </tr>\n",
       "    <tr>\n",
       "      <th>89</th>\n",
       "      <td>0.0</td>\n",
       "      <td>0.0</td>\n",
       "      <td>NaN</td>\n",
       "      <td>NaN</td>\n",
       "      <td>NaN</td>\n",
       "      <td>NaN</td>\n",
       "      <td>NaN</td>\n",
       "    </tr>\n",
       "    <tr>\n",
       "      <th>90</th>\n",
       "      <td>0.0</td>\n",
       "      <td>0.0</td>\n",
       "      <td>NaN</td>\n",
       "      <td>NaN</td>\n",
       "      <td>NaN</td>\n",
       "      <td>NaN</td>\n",
       "      <td>NaN</td>\n",
       "    </tr>\n",
       "    <tr>\n",
       "      <th>...</th>\n",
       "      <td>...</td>\n",
       "      <td>...</td>\n",
       "      <td>...</td>\n",
       "      <td>...</td>\n",
       "      <td>...</td>\n",
       "      <td>...</td>\n",
       "      <td>...</td>\n",
       "    </tr>\n",
       "    <tr>\n",
       "      <th>2894</th>\n",
       "      <td>0.0</td>\n",
       "      <td>0.0</td>\n",
       "      <td>NaN</td>\n",
       "      <td>NaN</td>\n",
       "      <td>NaN</td>\n",
       "      <td>NaN</td>\n",
       "      <td>NaN</td>\n",
       "    </tr>\n",
       "    <tr>\n",
       "      <th>2910</th>\n",
       "      <td>0.0</td>\n",
       "      <td>0.0</td>\n",
       "      <td>NaN</td>\n",
       "      <td>NaN</td>\n",
       "      <td>NaN</td>\n",
       "      <td>NaN</td>\n",
       "      <td>NaN</td>\n",
       "    </tr>\n",
       "    <tr>\n",
       "      <th>2914</th>\n",
       "      <td>0.0</td>\n",
       "      <td>0.0</td>\n",
       "      <td>NaN</td>\n",
       "      <td>NaN</td>\n",
       "      <td>NaN</td>\n",
       "      <td>NaN</td>\n",
       "      <td>NaN</td>\n",
       "    </tr>\n",
       "    <tr>\n",
       "      <th>2915</th>\n",
       "      <td>0.0</td>\n",
       "      <td>0.0</td>\n",
       "      <td>NaN</td>\n",
       "      <td>NaN</td>\n",
       "      <td>NaN</td>\n",
       "      <td>NaN</td>\n",
       "      <td>NaN</td>\n",
       "    </tr>\n",
       "    <tr>\n",
       "      <th>2918</th>\n",
       "      <td>0.0</td>\n",
       "      <td>0.0</td>\n",
       "      <td>NaN</td>\n",
       "      <td>NaN</td>\n",
       "      <td>NaN</td>\n",
       "      <td>NaN</td>\n",
       "      <td>NaN</td>\n",
       "    </tr>\n",
       "  </tbody>\n",
       "</table>\n",
       "<p>159 rows × 7 columns</p>\n",
       "</div>"
      ],
      "text/plain": [
       "      GarageArea  GarageCars  GarageYrBlt GarageType GarageFinish GarageQual  \\\n",
       "Id                                                                             \n",
       "40           0.0         0.0          NaN        NaN          NaN        NaN   \n",
       "49           0.0         0.0          NaN        NaN          NaN        NaN   \n",
       "79           0.0         0.0          NaN        NaN          NaN        NaN   \n",
       "89           0.0         0.0          NaN        NaN          NaN        NaN   \n",
       "90           0.0         0.0          NaN        NaN          NaN        NaN   \n",
       "...          ...         ...          ...        ...          ...        ...   \n",
       "2894         0.0         0.0          NaN        NaN          NaN        NaN   \n",
       "2910         0.0         0.0          NaN        NaN          NaN        NaN   \n",
       "2914         0.0         0.0          NaN        NaN          NaN        NaN   \n",
       "2915         0.0         0.0          NaN        NaN          NaN        NaN   \n",
       "2918         0.0         0.0          NaN        NaN          NaN        NaN   \n",
       "\n",
       "     GarageCond  \n",
       "Id               \n",
       "40          NaN  \n",
       "49          NaN  \n",
       "79          NaN  \n",
       "89          NaN  \n",
       "90          NaN  \n",
       "...         ...  \n",
       "2894        NaN  \n",
       "2910        NaN  \n",
       "2914        NaN  \n",
       "2915        NaN  \n",
       "2918        NaN  \n",
       "\n",
       "[159 rows x 7 columns]"
      ]
     },
     "execution_count": 77,
     "metadata": {},
     "output_type": "execute_result"
    }
   ],
   "source": [
    "num_garage_feat=[\"GarageArea\",\"GarageCars\",\"GarageYrBlt\"]\n",
    "cat_garage_feat=[\"GarageType\",\"GarageFinish\",\"GarageQual\",\"GarageCond\"]\n",
    "\n",
    "df_garafe=df[num_garage_feat+cat_garage_feat]\n",
    "df_garafe[df_garafe.isnull().any(axis=1)]"
   ]
  },
  {
   "cell_type": "code",
   "execution_count": 78,
   "id": "435586b2",
   "metadata": {},
   "outputs": [
    {
     "data": {
      "text/plain": [
       "GarageType      0\n",
       "GarageFinish    0\n",
       "GarageQual      0\n",
       "GarageCond      0\n",
       "dtype: int64"
      ]
     },
     "execution_count": 78,
     "metadata": {},
     "output_type": "execute_result"
    }
   ],
   "source": [
    "garage_cont=\"NA\"\n",
    "for feat in cat_garage_feat:\n",
    "    df_mvi[feat].replace(np.nan,garage_cont,inplace=True)\n",
    "    \n",
    "df_mvi[cat_garage_feat].isnull().sum()"
   ]
  },
  {
   "cell_type": "code",
   "execution_count": 79,
   "id": "5be6a4d7",
   "metadata": {},
   "outputs": [
    {
     "data": {
      "text/plain": [
       "GarageArea     0\n",
       "GarageCars     0\n",
       "GarageYrBlt    0\n",
       "dtype: int64"
      ]
     },
     "execution_count": 79,
     "metadata": {},
     "output_type": "execute_result"
    }
   ],
   "source": [
    "garage_num=0\n",
    "for feat in num_garage_feat:\n",
    "    df_mvi[feat].replace(np.nan,garage_num,inplace=True)\n",
    "    \n",
    "df_mvi[num_garage_feat].isnull().sum()"
   ]
  },
  {
   "cell_type": "code",
   "execution_count": 80,
   "id": "362eabb6",
   "metadata": {},
   "outputs": [
    {
     "data": {
      "text/plain": [
       "1459"
      ]
     },
     "execution_count": 80,
     "metadata": {},
     "output_type": "execute_result"
    }
   ],
   "source": [
    "df_mvi.isnull().any(axis=1).sum()"
   ]
  },
  {
   "cell_type": "markdown",
   "id": "c258e4e6",
   "metadata": {},
   "source": [
    "### Feature Transformation\n",
    "\n",
    "### Convert Numerical Feature to Categorical Feature"
   ]
  },
  {
   "cell_type": "code",
   "execution_count": 81,
   "id": "152a9eec",
   "metadata": {},
   "outputs": [
    {
     "name": "stdout",
     "output_type": "stream",
     "text": [
      "MSSubClass: data type = int64\n",
      "YearBuilt: data type = int64\n",
      "YearRemodAdd: data type = int64\n",
      "GarageYrBlt: data type = float64\n",
      "MoSold: data type = int64\n",
      "YrSold: data type = int64\n"
     ]
    }
   ],
   "source": [
    "for_num_conv=[\"MSSubClass\",\"YearBuilt\",\"YearRemodAdd\",\"GarageYrBlt\",\"MoSold\",\"YrSold\"]\n",
    "for feat in for_num_conv:\n",
    "    print(f\"{feat}: data type = {df_mvi[feat].dtype}\")"
   ]
  },
  {
   "cell_type": "code",
   "execution_count": 82,
   "id": "72b3de01",
   "metadata": {},
   "outputs": [
    {
     "data": {
      "text/html": [
       "<div>\n",
       "<style scoped>\n",
       "    .dataframe tbody tr th:only-of-type {\n",
       "        vertical-align: middle;\n",
       "    }\n",
       "\n",
       "    .dataframe tbody tr th {\n",
       "        vertical-align: top;\n",
       "    }\n",
       "\n",
       "    .dataframe thead th {\n",
       "        text-align: right;\n",
       "    }\n",
       "</style>\n",
       "<table border=\"1\" class=\"dataframe\">\n",
       "  <thead>\n",
       "    <tr style=\"text-align: right;\">\n",
       "      <th></th>\n",
       "      <th>MSSubClass</th>\n",
       "      <th>YearBuilt</th>\n",
       "      <th>YearRemodAdd</th>\n",
       "      <th>GarageYrBlt</th>\n",
       "      <th>MoSold</th>\n",
       "      <th>YrSold</th>\n",
       "    </tr>\n",
       "    <tr>\n",
       "      <th>Id</th>\n",
       "      <th></th>\n",
       "      <th></th>\n",
       "      <th></th>\n",
       "      <th></th>\n",
       "      <th></th>\n",
       "      <th></th>\n",
       "    </tr>\n",
       "  </thead>\n",
       "  <tbody>\n",
       "    <tr>\n",
       "      <th>1</th>\n",
       "      <td>60</td>\n",
       "      <td>2003</td>\n",
       "      <td>2003</td>\n",
       "      <td>2003.0</td>\n",
       "      <td>2</td>\n",
       "      <td>2008</td>\n",
       "    </tr>\n",
       "    <tr>\n",
       "      <th>2</th>\n",
       "      <td>20</td>\n",
       "      <td>1976</td>\n",
       "      <td>1976</td>\n",
       "      <td>1976.0</td>\n",
       "      <td>5</td>\n",
       "      <td>2007</td>\n",
       "    </tr>\n",
       "    <tr>\n",
       "      <th>3</th>\n",
       "      <td>60</td>\n",
       "      <td>2001</td>\n",
       "      <td>2002</td>\n",
       "      <td>2001.0</td>\n",
       "      <td>9</td>\n",
       "      <td>2008</td>\n",
       "    </tr>\n",
       "    <tr>\n",
       "      <th>4</th>\n",
       "      <td>70</td>\n",
       "      <td>1915</td>\n",
       "      <td>1970</td>\n",
       "      <td>1998.0</td>\n",
       "      <td>2</td>\n",
       "      <td>2006</td>\n",
       "    </tr>\n",
       "    <tr>\n",
       "      <th>5</th>\n",
       "      <td>60</td>\n",
       "      <td>2000</td>\n",
       "      <td>2000</td>\n",
       "      <td>2000.0</td>\n",
       "      <td>12</td>\n",
       "      <td>2008</td>\n",
       "    </tr>\n",
       "  </tbody>\n",
       "</table>\n",
       "</div>"
      ],
      "text/plain": [
       "    MSSubClass  YearBuilt  YearRemodAdd  GarageYrBlt  MoSold  YrSold\n",
       "Id                                                                  \n",
       "1           60       2003          2003       2003.0       2    2008\n",
       "2           20       1976          1976       1976.0       5    2007\n",
       "3           60       2001          2002       2001.0       9    2008\n",
       "4           70       1915          1970       1998.0       2    2006\n",
       "5           60       2000          2000       2000.0      12    2008"
      ]
     },
     "execution_count": 82,
     "metadata": {},
     "output_type": "execute_result"
    }
   ],
   "source": [
    "df_mvi[for_num_conv].head()"
   ]
  },
  {
   "cell_type": "code",
   "execution_count": 83,
   "id": "7198dcb2",
   "metadata": {},
   "outputs": [
    {
     "data": {
      "text/plain": [
       "array([ 2,  5,  9, 12, 10,  8, 11,  4,  1,  7,  3,  6], dtype=int64)"
      ]
     },
     "execution_count": 83,
     "metadata": {},
     "output_type": "execute_result"
    }
   ],
   "source": [
    "df_mvi[\"MoSold\"].unique()"
   ]
  },
  {
   "cell_type": "code",
   "execution_count": 84,
   "id": "1832de68",
   "metadata": {},
   "outputs": [
    {
     "data": {
      "text/plain": [
       "array(['Feb', 'May', 'Sep', 'Dec', 'Oct', 'Aug', 'Nov', 'Apr', 'Jan',\n",
       "       'Jul', 'Mar', 'Jun'], dtype=object)"
      ]
     },
     "execution_count": 84,
     "metadata": {},
     "output_type": "execute_result"
    }
   ],
   "source": [
    "df_mvi[\"MoSold\"]=df_mvi[\"MoSold\"].apply(lambda x: calendar.month_abbr[x])\n",
    "df_mvi[\"MoSold\"].unique()"
   ]
  },
  {
   "cell_type": "code",
   "execution_count": 85,
   "id": "dd405e13",
   "metadata": {},
   "outputs": [],
   "source": [
    "for feat in for_num_conv:\n",
    "    df_mvi[feat]=df_mvi[feat].astype(str)"
   ]
  },
  {
   "cell_type": "code",
   "execution_count": 86,
   "id": "33d5bd78",
   "metadata": {},
   "outputs": [
    {
     "name": "stdout",
     "output_type": "stream",
     "text": [
      "MSSubClass: data type = object\n",
      "YearBuilt: data type = object\n",
      "YearRemodAdd: data type = object\n",
      "GarageYrBlt: data type = object\n",
      "MoSold: data type = object\n",
      "YrSold: data type = object\n"
     ]
    }
   ],
   "source": [
    "for feat in for_num_conv:\n",
    "    print(f\"{feat}: data type = {df_mvi[feat].dtype}\")"
   ]
  },
  {
   "cell_type": "markdown",
   "id": "ce6b94bf",
   "metadata": {},
   "source": [
    "### Convert categorical features into numerical feature\n",
    "\n",
    "### Ordinal Encoding"
   ]
  },
  {
   "cell_type": "code",
   "execution_count": 87,
   "id": "a7ce9191",
   "metadata": {},
   "outputs": [
    {
     "name": "stdout",
     "output_type": "stream",
     "text": [
      "Total number of features to convert ordinal numerical format: 18\n"
     ]
    }
   ],
   "source": [
    "ordinal_end_var=[\n",
    "    \"ExterQual\",\n",
    "    \"ExterCond\",\n",
    "    \"BsmtQual\",\n",
    "    \"BsmtCond\",\n",
    "    \"BsmtExposure\",\n",
    "    \"BsmtFinType1\",\n",
    "    \"BsmtFinSF1\",\n",
    "    \"BsmtFinType2\",\n",
    "    \"HeatingQC\",\n",
    "    \"KitchenQual\",\n",
    "    \"FireplaceQu\",\n",
    "    \"GarageQual\",\n",
    "    \"GarageCond\",\n",
    "    \"PoolQC\",\n",
    "    \"Functional\",\n",
    "    \"GarageFinish\",\n",
    "    \"PavedDrive\",\n",
    "    \"Utilities\"\n",
    "]\n",
    "\n",
    "print(\"Total number of features to convert ordinal numerical format:\",len(ordinal_end_var))"
   ]
  },
  {
   "cell_type": "code",
   "execution_count": 88,
   "id": "ac917b3b",
   "metadata": {},
   "outputs": [
    {
     "data": {
      "text/plain": [
       "TA    1798\n",
       "Gd     979\n",
       "Ex     107\n",
       "Fa      35\n",
       "Name: ExterQual, dtype: int64"
      ]
     },
     "execution_count": 88,
     "metadata": {},
     "output_type": "execute_result"
    }
   ],
   "source": [
    "df_mvi[\"ExterQual\"].value_counts()"
   ]
  },
  {
   "cell_type": "code",
   "execution_count": 89,
   "id": "d4fcaea2",
   "metadata": {},
   "outputs": [],
   "source": [
    "df_mvi[\"ExterQual\"]= df_mvi[\"ExterQual\"].astype(CategoricalDtype(categories=[\"Po\",\"Fa\",\"TA\",\"Gd\",\"Ex\"],ordered=True)).cat.codes"
   ]
  },
  {
   "cell_type": "code",
   "execution_count": 90,
   "id": "55da2c42",
   "metadata": {},
   "outputs": [
    {
     "data": {
      "text/plain": [
       "2    1798\n",
       "3     979\n",
       "4     107\n",
       "1      35\n",
       "Name: ExterQual, dtype: int64"
      ]
     },
     "execution_count": 90,
     "metadata": {},
     "output_type": "execute_result"
    }
   ],
   "source": [
    "df_mvi[\"ExterQual\"].value_counts()"
   ]
  },
  {
   "cell_type": "code",
   "execution_count": 91,
   "id": "c8a4a979",
   "metadata": {},
   "outputs": [
    {
     "data": {
      "text/plain": [
       "No    1904\n",
       "Av     418\n",
       "Gd     276\n",
       "Mn     239\n",
       "NA      82\n",
       "Name: BsmtExposure, dtype: int64"
      ]
     },
     "execution_count": 91,
     "metadata": {},
     "output_type": "execute_result"
    }
   ],
   "source": [
    "df_mvi[\"BsmtExposure\"].value_counts()"
   ]
  },
  {
   "cell_type": "code",
   "execution_count": 92,
   "id": "6b0a508d",
   "metadata": {},
   "outputs": [],
   "source": [
    "df_mvi[\"BsmtExposure\"]= df_mvi[\"BsmtExposure\"].astype(CategoricalDtype(categories=[\"NA\",\"No\",\"Mn\",\"Av\",\"Gd\"],ordered=True)).cat.codes"
   ]
  },
  {
   "cell_type": "code",
   "execution_count": 93,
   "id": "b89093db",
   "metadata": {},
   "outputs": [
    {
     "data": {
      "text/plain": [
       "1    1904\n",
       "3     418\n",
       "4     276\n",
       "2     239\n",
       "0      82\n",
       "Name: BsmtExposure, dtype: int64"
      ]
     },
     "execution_count": 93,
     "metadata": {},
     "output_type": "execute_result"
    }
   ],
   "source": [
    "df_mvi[\"BsmtExposure\"].value_counts()"
   ]
  },
  {
   "cell_type": "code",
   "execution_count": 94,
   "id": "34153691",
   "metadata": {},
   "outputs": [],
   "source": [
    "df_mvi[\"ExterCond\"]= df_mvi[\"ExterCond\"].astype(CategoricalDtype(categories=[\"Po\",\"Fa\",\"TA\",\"Gd\",\"Ex\"],ordered=True)).cat.codes\n",
    "df_mvi[\"BsmtQual\"]= df_mvi[\"BsmtQual\"].astype(CategoricalDtype(categories=[\"NA\",\"Po\",\"Fa\",\"TA\",\"Gd\",\"Ex\"],ordered=True)).cat.codes\n",
    "df_mvi[\"BsmtCond\"]= df_mvi[\"BsmtCond\"].astype(CategoricalDtype(categories=[\"NA\",\"Po\",\"Fa\",\"TA\",\"Gd\",\"Ex\"],ordered=True)).cat.codes\n",
    "df_mvi[\"BsmtFinType1\"]= df_mvi[\"BsmtFinType1\"].astype(CategoricalDtype(categories=[\"NA\",\"Unf\",\"LwQ\",\"Rec\",\"BLQ\",\"ALQ\",\"GLQ\"],ordered=True)).cat.codes\n",
    "df_mvi[\"BsmtFinType2\"]= df_mvi[\"BsmtFinType2\"].astype(CategoricalDtype(categories=[\"NA\",\"Unf\",\"LwQ\",\"Rec\",\"BLQ\",\"ALQ\",\"GLQ\"],ordered=True)).cat.codes\n",
    "df_mvi[\"HeatingQC\"]= df_mvi[\"HeatingQC\"].astype(CategoricalDtype(categories=[\"Po\",\"Fa\",\"TA\",\"Gd\",\"Ex\"],ordered=True)).cat.codes\n",
    "df_mvi[\"KitchenQual\"]= df_mvi[\"KitchenQual\"].astype(CategoricalDtype(categories=[\"Po\",\"Fa\",\"TA\",\"Gd\",\"Ex\"],ordered=True)).cat.codes\n",
    "df_mvi[\"FireplaceQu\"]= df_mvi[\"FireplaceQu\"].astype(CategoricalDtype(categories=[\"NA\",\"Po\",\"Fa\",\"TA\",\"Gd\",\"Ex\"],ordered=True)).cat.codes\n",
    "df_mvi[\"GarageQual\"]= df_mvi[\"GarageQual\"].astype(CategoricalDtype(categories=[\"NA\",\"Po\",\"Fa\",\"TA\",\"Gd\",\"Ex\"],ordered=True)).cat.codes\n",
    "df_mvi[\"GarageCond\"]= df_mvi[\"GarageCond\"].astype(CategoricalDtype(categories=[\"NA\",\"Po\",\"Fa\",\"TA\",\"Gd\",\"Ex\"],ordered=True)).cat.codes\n",
    "df_mvi[\"PoolQC\"]= df_mvi[\"PoolQC\"].astype(CategoricalDtype(categories=[\"NA\",\"Fa\",\"TA\",\"Gd\",\"Ex\"],ordered=True)).cat.codes\n",
    "df_mvi[\"Functional\"]= df_mvi[\"Functional\"].astype(CategoricalDtype(categories=[\"Sal\",\"Sev\",\"Maj2\",\"Maj1\",\"Mod\",\"Min2\",\"Min1\",\"Typ\"],ordered=True)).cat.codes\n",
    "df_mvi[\"GarageFinish\"]= df_mvi[\"GarageFinish\"].astype(CategoricalDtype(categories=[\"NA\",\"Unf\",\"RFn\",\"Fin\"],ordered=True)).cat.codes\n",
    "df_mvi[\"PavedDrive\"]= df_mvi[\"PavedDrive\"].astype(CategoricalDtype(categories=[\"N\",\"P\",\"Y\"],ordered=True)).cat.codes\n",
    "df_mvi[\"Utilities\"]= df_mvi[\"Utilities\"].astype(CategoricalDtype(categories=[\"ELO\",\"NASeWa\",\"NASeWr\",\"AllPub\"],ordered=True)).cat.codes"
   ]
  },
  {
   "cell_type": "code",
   "execution_count": 95,
   "id": "ab29e23d",
   "metadata": {},
   "outputs": [
    {
     "name": "stdout",
     "output_type": "stream",
     "text": [
      "<class 'pandas.core.frame.DataFrame'>\n",
      "Int64Index: 2919 entries, 1 to 2919\n",
      "Data columns (total 80 columns):\n",
      " #   Column         Non-Null Count  Dtype  \n",
      "---  ------         --------------  -----  \n",
      " 0   MSSubClass     2919 non-null   object \n",
      " 1   MSZoning       2919 non-null   object \n",
      " 2   LotFrontage    2919 non-null   float64\n",
      " 3   LotArea        2919 non-null   int64  \n",
      " 4   Street         2919 non-null   object \n",
      " 5   Alley          2919 non-null   object \n",
      " 6   LotShape       2919 non-null   object \n",
      " 7   LandContour    2919 non-null   object \n",
      " 8   Utilities      2919 non-null   int8   \n",
      " 9   LotConfig      2919 non-null   object \n",
      " 10  LandSlope      2919 non-null   object \n",
      " 11  Neighborhood   2919 non-null   object \n",
      " 12  Condition1     2919 non-null   object \n",
      " 13  Condition2     2919 non-null   object \n",
      " 14  BldgType       2919 non-null   object \n",
      " 15  HouseStyle     2919 non-null   object \n",
      " 16  OverallQual    2919 non-null   int64  \n",
      " 17  OverallCond    2919 non-null   int64  \n",
      " 18  YearBuilt      2919 non-null   object \n",
      " 19  YearRemodAdd   2919 non-null   object \n",
      " 20  RoofStyle      2919 non-null   object \n",
      " 21  RoofMatl       2919 non-null   object \n",
      " 22  Exterior1st    2919 non-null   object \n",
      " 23  Exterior2nd    2919 non-null   object \n",
      " 24  MasVnrType     2919 non-null   object \n",
      " 25  MasVnrArea     2919 non-null   float64\n",
      " 26  ExterQual      2919 non-null   int8   \n",
      " 27  ExterCond      2919 non-null   int8   \n",
      " 28  Foundation     2919 non-null   object \n",
      " 29  BsmtQual       2919 non-null   int8   \n",
      " 30  BsmtCond       2919 non-null   int8   \n",
      " 31  BsmtExposure   2919 non-null   int8   \n",
      " 32  BsmtFinType1   2919 non-null   int8   \n",
      " 33  BsmtFinSF1     2919 non-null   float64\n",
      " 34  BsmtFinType2   2919 non-null   int8   \n",
      " 35  BsmtFinSF2     2919 non-null   float64\n",
      " 36  BsmtUnfSF      2919 non-null   float64\n",
      " 37  TotalBsmtSF    2919 non-null   float64\n",
      " 38  Heating        2919 non-null   object \n",
      " 39  HeatingQC      2919 non-null   int8   \n",
      " 40  CentralAir     2919 non-null   object \n",
      " 41  Electrical     2919 non-null   object \n",
      " 42  1stFlrSF       2919 non-null   int64  \n",
      " 43  2ndFlrSF       2919 non-null   int64  \n",
      " 44  LowQualFinSF   2919 non-null   int64  \n",
      " 45  GrLivArea      2919 non-null   int64  \n",
      " 46  BsmtFullBath   2919 non-null   float64\n",
      " 47  BsmtHalfBath   2919 non-null   float64\n",
      " 48  FullBath       2919 non-null   int64  \n",
      " 49  HalfBath       2919 non-null   int64  \n",
      " 50  BedroomAbvGr   2919 non-null   int64  \n",
      " 51  KitchenAbvGr   2919 non-null   int64  \n",
      " 52  KitchenQual    2919 non-null   int8   \n",
      " 53  TotRmsAbvGrd   2919 non-null   int64  \n",
      " 54  Functional     2919 non-null   int8   \n",
      " 55  Fireplaces     2919 non-null   int64  \n",
      " 56  FireplaceQu    2919 non-null   int8   \n",
      " 57  GarageType     2919 non-null   object \n",
      " 58  GarageYrBlt    2919 non-null   object \n",
      " 59  GarageFinish   2919 non-null   int8   \n",
      " 60  GarageCars     2919 non-null   float64\n",
      " 61  GarageArea     2919 non-null   float64\n",
      " 62  GarageQual     2919 non-null   int8   \n",
      " 63  GarageCond     2919 non-null   int8   \n",
      " 64  PavedDrive     2919 non-null   int8   \n",
      " 65  WoodDeckSF     2919 non-null   int64  \n",
      " 66  OpenPorchSF    2919 non-null   int64  \n",
      " 67  EnclosedPorch  2919 non-null   int64  \n",
      " 68  3SsnPorch      2919 non-null   int64  \n",
      " 69  ScreenPorch    2919 non-null   int64  \n",
      " 70  PoolArea       2919 non-null   int64  \n",
      " 71  PoolQC         2919 non-null   int8   \n",
      " 72  Fence          2919 non-null   object \n",
      " 73  MiscFeature    2919 non-null   object \n",
      " 74  MiscVal        2919 non-null   int64  \n",
      " 75  MoSold         2919 non-null   object \n",
      " 76  YrSold         2919 non-null   object \n",
      " 77  SaleType       2919 non-null   object \n",
      " 78  SaleCondition  2919 non-null   object \n",
      " 79  SalePrice      1460 non-null   float64\n",
      "dtypes: float64(11), int64(20), int8(17), object(32)\n",
      "memory usage: 1.5+ MB\n"
     ]
    }
   ],
   "source": [
    "df_mvi.info()"
   ]
  },
  {
   "cell_type": "markdown",
   "id": "d19511d7",
   "metadata": {},
   "source": [
    "### One Hot Encoding for Nominal Categorical Data"
   ]
  },
  {
   "cell_type": "code",
   "execution_count": 96,
   "id": "b63ac71e",
   "metadata": {},
   "outputs": [
    {
     "name": "stdout",
     "output_type": "stream",
     "text": [
      "Total object data type features :  32\n",
      "Features  : \n",
      "  ['MSSubClass', 'MSZoning', 'Street', 'Alley', 'LotShape', 'LandContour', 'LotConfig', 'LandSlope', 'Neighborhood', 'Condition1', 'Condition2', 'BldgType', 'HouseStyle', 'YearBuilt', 'YearRemodAdd', 'RoofStyle', 'RoofMatl', 'Exterior1st', 'Exterior2nd', 'MasVnrType', 'Foundation', 'Heating', 'CentralAir', 'Electrical', 'GarageType', 'GarageYrBlt', 'Fence', 'MiscFeature', 'MoSold', 'YrSold', 'SaleType', 'SaleCondition']\n"
     ]
    }
   ],
   "source": [
    "df_encod =df_mvi.copy()\n",
    "object_features= df_encod.select_dtypes(include=\"object\").columns.tolist()\n",
    "print(\"Total object data type features : \",len(object_features))\n",
    "print(\"Features  : \\n \",object_features)"
   ]
  },
  {
   "cell_type": "code",
   "execution_count": 97,
   "id": "27c5d9d5",
   "metadata": {},
   "outputs": [
    {
     "data": {
      "text/html": [
       "<div>\n",
       "<style scoped>\n",
       "    .dataframe tbody tr th:only-of-type {\n",
       "        vertical-align: middle;\n",
       "    }\n",
       "\n",
       "    .dataframe tbody tr th {\n",
       "        vertical-align: top;\n",
       "    }\n",
       "\n",
       "    .dataframe thead th {\n",
       "        text-align: right;\n",
       "    }\n",
       "</style>\n",
       "<table border=\"1\" class=\"dataframe\">\n",
       "  <thead>\n",
       "    <tr style=\"text-align: right;\">\n",
       "      <th></th>\n",
       "      <th>MSSubClass</th>\n",
       "      <th>MSZoning</th>\n",
       "      <th>Street</th>\n",
       "      <th>Alley</th>\n",
       "      <th>LotShape</th>\n",
       "      <th>LandContour</th>\n",
       "      <th>LotConfig</th>\n",
       "      <th>LandSlope</th>\n",
       "      <th>Neighborhood</th>\n",
       "      <th>Condition1</th>\n",
       "      <th>...</th>\n",
       "      <th>CentralAir</th>\n",
       "      <th>Electrical</th>\n",
       "      <th>GarageType</th>\n",
       "      <th>GarageYrBlt</th>\n",
       "      <th>Fence</th>\n",
       "      <th>MiscFeature</th>\n",
       "      <th>MoSold</th>\n",
       "      <th>YrSold</th>\n",
       "      <th>SaleType</th>\n",
       "      <th>SaleCondition</th>\n",
       "    </tr>\n",
       "    <tr>\n",
       "      <th>Id</th>\n",
       "      <th></th>\n",
       "      <th></th>\n",
       "      <th></th>\n",
       "      <th></th>\n",
       "      <th></th>\n",
       "      <th></th>\n",
       "      <th></th>\n",
       "      <th></th>\n",
       "      <th></th>\n",
       "      <th></th>\n",
       "      <th></th>\n",
       "      <th></th>\n",
       "      <th></th>\n",
       "      <th></th>\n",
       "      <th></th>\n",
       "      <th></th>\n",
       "      <th></th>\n",
       "      <th></th>\n",
       "      <th></th>\n",
       "      <th></th>\n",
       "      <th></th>\n",
       "    </tr>\n",
       "  </thead>\n",
       "  <tbody>\n",
       "    <tr>\n",
       "      <th>1</th>\n",
       "      <td>60</td>\n",
       "      <td>RL</td>\n",
       "      <td>Pave</td>\n",
       "      <td>NA</td>\n",
       "      <td>Reg</td>\n",
       "      <td>Lvl</td>\n",
       "      <td>Inside</td>\n",
       "      <td>Gtl</td>\n",
       "      <td>CollgCr</td>\n",
       "      <td>Norm</td>\n",
       "      <td>...</td>\n",
       "      <td>Y</td>\n",
       "      <td>SBrkr</td>\n",
       "      <td>Attchd</td>\n",
       "      <td>2003.0</td>\n",
       "      <td>NA</td>\n",
       "      <td>NA</td>\n",
       "      <td>Feb</td>\n",
       "      <td>2008</td>\n",
       "      <td>WD</td>\n",
       "      <td>Normal</td>\n",
       "    </tr>\n",
       "    <tr>\n",
       "      <th>2</th>\n",
       "      <td>20</td>\n",
       "      <td>RL</td>\n",
       "      <td>Pave</td>\n",
       "      <td>NA</td>\n",
       "      <td>Reg</td>\n",
       "      <td>Lvl</td>\n",
       "      <td>FR2</td>\n",
       "      <td>Gtl</td>\n",
       "      <td>Veenker</td>\n",
       "      <td>Feedr</td>\n",
       "      <td>...</td>\n",
       "      <td>Y</td>\n",
       "      <td>SBrkr</td>\n",
       "      <td>Attchd</td>\n",
       "      <td>1976.0</td>\n",
       "      <td>NA</td>\n",
       "      <td>NA</td>\n",
       "      <td>May</td>\n",
       "      <td>2007</td>\n",
       "      <td>WD</td>\n",
       "      <td>Normal</td>\n",
       "    </tr>\n",
       "  </tbody>\n",
       "</table>\n",
       "<p>2 rows × 32 columns</p>\n",
       "</div>"
      ],
      "text/plain": [
       "   MSSubClass MSZoning Street Alley LotShape LandContour LotConfig LandSlope  \\\n",
       "Id                                                                             \n",
       "1          60       RL   Pave    NA      Reg         Lvl    Inside       Gtl   \n",
       "2          20       RL   Pave    NA      Reg         Lvl       FR2       Gtl   \n",
       "\n",
       "   Neighborhood Condition1  ... CentralAir Electrical GarageType GarageYrBlt  \\\n",
       "Id                          ...                                                \n",
       "1       CollgCr       Norm  ...          Y      SBrkr     Attchd      2003.0   \n",
       "2       Veenker      Feedr  ...          Y      SBrkr     Attchd      1976.0   \n",
       "\n",
       "   Fence MiscFeature MoSold YrSold SaleType SaleCondition  \n",
       "Id                                                         \n",
       "1     NA          NA    Feb   2008       WD        Normal  \n",
       "2     NA          NA    May   2007       WD        Normal  \n",
       "\n",
       "[2 rows x 32 columns]"
      ]
     },
     "execution_count": 97,
     "metadata": {},
     "output_type": "execute_result"
    }
   ],
   "source": [
    "df_encod[object_features].head(2)"
   ]
  },
  {
   "cell_type": "code",
   "execution_count": 98,
   "id": "a18c9d4c",
   "metadata": {},
   "outputs": [
    {
     "name": "stdout",
     "output_type": "stream",
     "text": [
      "Shape of DF before encoding  :  (2919, 80)\n",
      "Shape of DF after encoding :  (2919, 513)\n"
     ]
    }
   ],
   "source": [
    "print(\"Shape of DF before encoding  : \",df_encod.shape)\n",
    "df_encod=pd.get_dummies(df_encod,columns=object_features,prefix=object_features,drop_first=True)\n",
    "print(\"Shape of DF after encoding : \",df_encod.shape)"
   ]
  },
  {
   "cell_type": "code",
   "execution_count": 99,
   "id": "b434f8b2",
   "metadata": {},
   "outputs": [
    {
     "data": {
      "text/html": [
       "<div>\n",
       "<style scoped>\n",
       "    .dataframe tbody tr th:only-of-type {\n",
       "        vertical-align: middle;\n",
       "    }\n",
       "\n",
       "    .dataframe tbody tr th {\n",
       "        vertical-align: top;\n",
       "    }\n",
       "\n",
       "    .dataframe thead th {\n",
       "        text-align: right;\n",
       "    }\n",
       "</style>\n",
       "<table border=\"1\" class=\"dataframe\">\n",
       "  <thead>\n",
       "    <tr style=\"text-align: right;\">\n",
       "      <th></th>\n",
       "      <th>LotFrontage</th>\n",
       "      <th>LotArea</th>\n",
       "      <th>Utilities</th>\n",
       "      <th>OverallQual</th>\n",
       "      <th>OverallCond</th>\n",
       "      <th>MasVnrArea</th>\n",
       "      <th>ExterQual</th>\n",
       "      <th>ExterCond</th>\n",
       "      <th>BsmtQual</th>\n",
       "      <th>BsmtCond</th>\n",
       "      <th>...</th>\n",
       "      <th>SaleType_ConLI</th>\n",
       "      <th>SaleType_ConLw</th>\n",
       "      <th>SaleType_New</th>\n",
       "      <th>SaleType_Oth</th>\n",
       "      <th>SaleType_WD</th>\n",
       "      <th>SaleCondition_AdjLand</th>\n",
       "      <th>SaleCondition_Alloca</th>\n",
       "      <th>SaleCondition_Family</th>\n",
       "      <th>SaleCondition_Normal</th>\n",
       "      <th>SaleCondition_Partial</th>\n",
       "    </tr>\n",
       "    <tr>\n",
       "      <th>Id</th>\n",
       "      <th></th>\n",
       "      <th></th>\n",
       "      <th></th>\n",
       "      <th></th>\n",
       "      <th></th>\n",
       "      <th></th>\n",
       "      <th></th>\n",
       "      <th></th>\n",
       "      <th></th>\n",
       "      <th></th>\n",
       "      <th></th>\n",
       "      <th></th>\n",
       "      <th></th>\n",
       "      <th></th>\n",
       "      <th></th>\n",
       "      <th></th>\n",
       "      <th></th>\n",
       "      <th></th>\n",
       "      <th></th>\n",
       "      <th></th>\n",
       "      <th></th>\n",
       "    </tr>\n",
       "  </thead>\n",
       "  <tbody>\n",
       "    <tr>\n",
       "      <th>1</th>\n",
       "      <td>65.0</td>\n",
       "      <td>8450</td>\n",
       "      <td>3</td>\n",
       "      <td>7</td>\n",
       "      <td>5</td>\n",
       "      <td>196.0</td>\n",
       "      <td>3</td>\n",
       "      <td>2</td>\n",
       "      <td>4</td>\n",
       "      <td>3</td>\n",
       "      <td>...</td>\n",
       "      <td>0</td>\n",
       "      <td>0</td>\n",
       "      <td>0</td>\n",
       "      <td>0</td>\n",
       "      <td>1</td>\n",
       "      <td>0</td>\n",
       "      <td>0</td>\n",
       "      <td>0</td>\n",
       "      <td>1</td>\n",
       "      <td>0</td>\n",
       "    </tr>\n",
       "    <tr>\n",
       "      <th>2</th>\n",
       "      <td>80.0</td>\n",
       "      <td>9600</td>\n",
       "      <td>3</td>\n",
       "      <td>6</td>\n",
       "      <td>8</td>\n",
       "      <td>0.0</td>\n",
       "      <td>2</td>\n",
       "      <td>2</td>\n",
       "      <td>4</td>\n",
       "      <td>3</td>\n",
       "      <td>...</td>\n",
       "      <td>0</td>\n",
       "      <td>0</td>\n",
       "      <td>0</td>\n",
       "      <td>0</td>\n",
       "      <td>1</td>\n",
       "      <td>0</td>\n",
       "      <td>0</td>\n",
       "      <td>0</td>\n",
       "      <td>1</td>\n",
       "      <td>0</td>\n",
       "    </tr>\n",
       "  </tbody>\n",
       "</table>\n",
       "<p>2 rows × 513 columns</p>\n",
       "</div>"
      ],
      "text/plain": [
       "    LotFrontage  LotArea  Utilities  OverallQual  OverallCond  MasVnrArea  \\\n",
       "Id                                                                          \n",
       "1          65.0     8450          3            7            5       196.0   \n",
       "2          80.0     9600          3            6            8         0.0   \n",
       "\n",
       "    ExterQual  ExterCond  BsmtQual  BsmtCond  ...  SaleType_ConLI  \\\n",
       "Id                                            ...                   \n",
       "1           3          2         4         3  ...               0   \n",
       "2           2          2         4         3  ...               0   \n",
       "\n",
       "    SaleType_ConLw  SaleType_New  SaleType_Oth  SaleType_WD  \\\n",
       "Id                                                            \n",
       "1                0             0             0            1   \n",
       "2                0             0             0            1   \n",
       "\n",
       "    SaleCondition_AdjLand  SaleCondition_Alloca  SaleCondition_Family  \\\n",
       "Id                                                                      \n",
       "1                       0                     0                     0   \n",
       "2                       0                     0                     0   \n",
       "\n",
       "    SaleCondition_Normal  SaleCondition_Partial  \n",
       "Id                                               \n",
       "1                      1                      0  \n",
       "2                      1                      0  \n",
       "\n",
       "[2 rows x 513 columns]"
      ]
     },
     "execution_count": 99,
     "metadata": {},
     "output_type": "execute_result"
    }
   ],
   "source": [
    "df_encod.head(2)"
   ]
  },
  {
   "cell_type": "code",
   "execution_count": 100,
   "id": "5e5cdcb1",
   "metadata": {},
   "outputs": [
    {
     "data": {
      "text/plain": [
       "[]"
      ]
     },
     "execution_count": 100,
     "metadata": {},
     "output_type": "execute_result"
    }
   ],
   "source": [
    "df_encod.select_dtypes(include=\"object\").columns.tolist()"
   ]
  },
  {
   "cell_type": "markdown",
   "id": "92c08085",
   "metadata": {},
   "source": [
    "### Splitting data for training and testing"
   ]
  },
  {
   "cell_type": "code",
   "execution_count": 101,
   "id": "2fe67790",
   "metadata": {},
   "outputs": [
    {
     "data": {
      "text/plain": [
       "(2919, 513)"
      ]
     },
     "execution_count": 101,
     "metadata": {},
     "output_type": "execute_result"
    }
   ],
   "source": [
    "df_encod.shape"
   ]
  },
  {
   "cell_type": "code",
   "execution_count": 102,
   "id": "3597cd51",
   "metadata": {},
   "outputs": [
    {
     "data": {
      "text/plain": [
       "1460"
      ]
     },
     "execution_count": 102,
     "metadata": {},
     "output_type": "execute_result"
    }
   ],
   "source": [
    "len_train=df_train.shape[0]\n",
    "len_train"
   ]
  },
  {
   "cell_type": "code",
   "execution_count": 103,
   "id": "4e9f6d95",
   "metadata": {},
   "outputs": [
    {
     "name": "stdout",
     "output_type": "stream",
     "text": [
      "Shape of X_train data :  (1460, 512)\n",
      "Shape of Y_train data :  (1460,)\n",
      "Shape of X_test data :  (1459, 512)\n"
     ]
    }
   ],
   "source": [
    "X_train=df_encod[:len_train].drop(\"SalePrice\",axis=1)\n",
    "Y_train=df_encod[\"SalePrice\"][:len_train]\n",
    "X_test=df_encod[len_train:].drop(\"SalePrice\",axis=1)\n",
    "\n",
    "print(\"Shape of X_train data : \",X_train.shape)\n",
    "print(\"Shape of Y_train data : \",Y_train.shape)\n",
    "print(\"Shape of X_test data : \",X_test.shape)"
   ]
  },
  {
   "cell_type": "markdown",
   "id": "44b0d3ac",
   "metadata": {},
   "source": [
    "### Feature Scaling"
   ]
  },
  {
   "cell_type": "code",
   "execution_count": 104,
   "id": "4f216b9f",
   "metadata": {},
   "outputs": [],
   "source": [
    "from sklearn.preprocessing import StandardScaler\n",
    "sc=StandardScaler()\n",
    "sc.fit(X_train)\n",
    "\n",
    "X_train=sc.transform(X_train)\n",
    "X_test=sc.transform(X_test)"
   ]
  },
  {
   "cell_type": "code",
   "execution_count": 105,
   "id": "b5ae2d70",
   "metadata": {},
   "outputs": [
    {
     "data": {
      "text/plain": [
       "array([[-0.22335706, -0.20714171,  0.02618016, ..., -0.11785113,\n",
       "         0.4676514 , -0.30599503],\n",
       "       [ 0.45789401, -0.09188637,  0.02618016, ..., -0.11785113,\n",
       "         0.4676514 , -0.30599503],\n",
       "       [-0.08710685,  0.07347998,  0.02618016, ..., -0.11785113,\n",
       "         0.4676514 , -0.30599503]])"
      ]
     },
     "execution_count": 105,
     "metadata": {},
     "output_type": "execute_result"
    }
   ],
   "source": [
    "X_train[:3,:]"
   ]
  },
  {
   "cell_type": "code",
   "execution_count": 106,
   "id": "8f21b69b",
   "metadata": {},
   "outputs": [
    {
     "data": {
      "text/plain": [
       "array([[ 0.45789401,  0.11076257,  0.02618016, ..., -0.11785113,\n",
       "         0.4676514 , -0.30599503],\n",
       "       [ 0.50331075,  0.37584985,  0.02618016, ..., -0.11785113,\n",
       "         0.4676514 , -0.30599503],\n",
       "       [ 0.18539358,  0.33205282,  0.02618016, ..., -0.11785113,\n",
       "         0.4676514 , -0.30599503]])"
      ]
     },
     "execution_count": 106,
     "metadata": {},
     "output_type": "execute_result"
    }
   ],
   "source": [
    "X_test[:3,:]"
   ]
  },
  {
   "cell_type": "markdown",
   "id": "c9738a22",
   "metadata": {},
   "source": [
    "### Train ML Model"
   ]
  },
  {
   "cell_type": "code",
   "execution_count": 107,
   "id": "85a696e0",
   "metadata": {},
   "outputs": [
    {
     "name": "stdout",
     "output_type": "stream",
     "text": [
      "Requirement already satisfied: xgboost in c:\\programdata\\anaconda3\\lib\\site-packages (1.7.5)\n",
      "Requirement already satisfied: scipy in c:\\programdata\\anaconda3\\lib\\site-packages (from xgboost) (1.7.1)\n",
      "Requirement already satisfied: numpy in c:\\programdata\\anaconda3\\lib\\site-packages (from xgboost) (1.20.3)\n"
     ]
    },
    {
     "name": "stderr",
     "output_type": "stream",
     "text": [
      "WARNING: Ignoring invalid distribution -oblib (c:\\programdata\\anaconda3\\lib\\site-packages)\n",
      "WARNING: Ignoring invalid distribution -oblib (c:\\programdata\\anaconda3\\lib\\site-packages)\n",
      "WARNING: Ignoring invalid distribution -oblib (c:\\programdata\\anaconda3\\lib\\site-packages)\n",
      "WARNING: Ignoring invalid distribution -oblib (c:\\programdata\\anaconda3\\lib\\site-packages)\n",
      "WARNING: Ignoring invalid distribution -oblib (c:\\programdata\\anaconda3\\lib\\site-packages)\n",
      "WARNING: Ignoring invalid distribution -oblib (c:\\programdata\\anaconda3\\lib\\site-packages)\n"
     ]
    }
   ],
   "source": [
    "!pip install xgboost"
   ]
  },
  {
   "cell_type": "code",
   "execution_count": 108,
   "id": "69f2821e",
   "metadata": {},
   "outputs": [],
   "source": [
    "from sklearn.svm import SVR\n",
    "from sklearn.linear_model import LinearRegression\n",
    "from sklearn.linear_model import SGDRegressor\n",
    "from sklearn.neighbors import KNeighborsRegressor\n",
    "from sklearn.gaussian_process import GaussianProcessRegressor\n",
    "from sklearn.tree import DecisionTreeRegressor\n",
    "from sklearn.ensemble import GradientBoostingRegressor\n",
    "from sklearn.ensemble import RandomForestRegressor\n",
    "from sklearn.isotonic import IsotonicRegression\n",
    "from sklearn.neural_network import MLPRegressor\n",
    "from xgboost import XGBRegressor"
   ]
  },
  {
   "cell_type": "code",
   "execution_count": 109,
   "id": "e82896cc",
   "metadata": {},
   "outputs": [],
   "source": [
    "svr=SVR()\n",
    "lr=LinearRegression()\n",
    "sgdr=SGDRegressor()\n",
    "knr=KNeighborsRegressor()\n",
    "gpr=GaussianProcessRegressor()\n",
    "dtr=DecisionTreeRegressor()\n",
    "gbr=GradientBoostingRegressor()\n",
    "rfr=RandomForestRegressor()\n",
    "mlpr=MLPRegressor()\n",
    "xgbr=XGBRegressor()\n",
    "ir=IsotonicRegression()"
   ]
  },
  {
   "cell_type": "code",
   "execution_count": 110,
   "id": "883a1fa4",
   "metadata": {},
   "outputs": [],
   "source": [
    "models={\"a\":[\"LinearRegression\",lr],\n",
    "       \"b\":[\"SVR\",svr],\n",
    "       \"c\":[\"SGDRegressor\",sgdr],\n",
    "       \"d\":[\"KNeighborsRegressor\",knr],\n",
    "       \"e\":[\"GaussianProcessRegressor\",gpr],\n",
    "       \"f\":[\"DecisionTreeRegressor\",dtr],\n",
    "       \"g\":[\"GradientBoostingRegressor\",gbr],\n",
    "       \"h\":[\"RandomForestRegressor\",rfr],\n",
    "       \"i\":[\"MLPRegressor\",mlpr],\n",
    "       \"j\":[\"XGBRegressor\",xgbr],\n",
    "       \"k\":[\"IsotonicRegression\",ir]}"
   ]
  },
  {
   "cell_type": "code",
   "execution_count": 111,
   "id": "b7fa8521",
   "metadata": {},
   "outputs": [],
   "source": [
    "from sklearn.model_selection import KFold,cross_val_score\n",
    "from sklearn.metrics import make_scorer,r2_score\n",
    "\n",
    "def test_model(model,X_train=X_train,Y_train=Y_train):\n",
    "    cv=KFold(n_splits=7,shuffle=True,random_state=45)\n",
    "    r2=make_scorer(r2_score)\n",
    "    r2_val_score=cross_val_score(model,X_train,Y_train,cv=cv,scoring=r2)\n",
    "    score=[r2_val_score.mean()]\n",
    "    return score"
   ]
  },
  {
   "cell_type": "code",
   "execution_count": 112,
   "id": "4b6b09e9",
   "metadata": {},
   "outputs": [
    {
     "name": "stdout",
     "output_type": "stream",
     "text": [
      "Training model :  LinearRegression\n",
      "Score of model :  [-4.944150015936254e+25]\n",
      "Training model :  SVR\n",
      "Score of model :  [-0.052133548352104216]\n",
      "Training model :  SGDRegressor\n",
      "Score of model :  [-1450.1649494745213]\n",
      "Training model :  KNeighborsRegressor\n",
      "Score of model :  [0.5585925623107102]\n",
      "Training model :  GaussianProcessRegressor\n",
      "Score of model :  [-5.398916312612151]\n",
      "Training model :  DecisionTreeRegressor\n",
      "Score of model :  [0.6399013532767376]\n",
      "Training model :  GradientBoostingRegressor\n",
      "Score of model :  [0.8692665532923327]\n",
      "Training model :  RandomForestRegressor\n",
      "Score of model :  [0.8431118980277255]\n",
      "Training model :  MLPRegressor\n"
     ]
    },
    {
     "name": "stderr",
     "output_type": "stream",
     "text": [
      "C:\\ProgramData\\Anaconda3\\lib\\site-packages\\sklearn\\neural_network\\_multilayer_perceptron.py:614: ConvergenceWarning: Stochastic Optimizer: Maximum iterations (200) reached and the optimization hasn't converged yet.\n",
      "  warnings.warn(\n",
      "C:\\ProgramData\\Anaconda3\\lib\\site-packages\\sklearn\\neural_network\\_multilayer_perceptron.py:614: ConvergenceWarning: Stochastic Optimizer: Maximum iterations (200) reached and the optimization hasn't converged yet.\n",
      "  warnings.warn(\n",
      "C:\\ProgramData\\Anaconda3\\lib\\site-packages\\sklearn\\neural_network\\_multilayer_perceptron.py:614: ConvergenceWarning: Stochastic Optimizer: Maximum iterations (200) reached and the optimization hasn't converged yet.\n",
      "  warnings.warn(\n",
      "C:\\ProgramData\\Anaconda3\\lib\\site-packages\\sklearn\\neural_network\\_multilayer_perceptron.py:614: ConvergenceWarning: Stochastic Optimizer: Maximum iterations (200) reached and the optimization hasn't converged yet.\n",
      "  warnings.warn(\n",
      "C:\\ProgramData\\Anaconda3\\lib\\site-packages\\sklearn\\neural_network\\_multilayer_perceptron.py:614: ConvergenceWarning: Stochastic Optimizer: Maximum iterations (200) reached and the optimization hasn't converged yet.\n",
      "  warnings.warn(\n",
      "C:\\ProgramData\\Anaconda3\\lib\\site-packages\\sklearn\\neural_network\\_multilayer_perceptron.py:614: ConvergenceWarning: Stochastic Optimizer: Maximum iterations (200) reached and the optimization hasn't converged yet.\n",
      "  warnings.warn(\n",
      "C:\\ProgramData\\Anaconda3\\lib\\site-packages\\sklearn\\neural_network\\_multilayer_perceptron.py:614: ConvergenceWarning: Stochastic Optimizer: Maximum iterations (200) reached and the optimization hasn't converged yet.\n",
      "  warnings.warn(\n"
     ]
    },
    {
     "name": "stdout",
     "output_type": "stream",
     "text": [
      "Score of model :  [-4.838959685071475]\n",
      "Training model :  XGBRegressor\n",
      "Score of model :  [0.8407335832935715]\n",
      "Training model :  IsotonicRegression\n",
      "Score of model :  [nan]\n"
     ]
    },
    {
     "name": "stderr",
     "output_type": "stream",
     "text": [
      "C:\\ProgramData\\Anaconda3\\lib\\site-packages\\sklearn\\model_selection\\_validation.py:615: FitFailedWarning: Estimator fit failed. The score on this train-test partition for these parameters will be set to nan. Details: \n",
      "Traceback (most recent call last):\n",
      "  File \"C:\\ProgramData\\Anaconda3\\lib\\site-packages\\sklearn\\model_selection\\_validation.py\", line 598, in _fit_and_score\n",
      "    estimator.fit(X_train, y_train, **fit_params)\n",
      "  File \"C:\\ProgramData\\Anaconda3\\lib\\site-packages\\sklearn\\isotonic.py\", line 332, in fit\n",
      "    X, y = self._build_y(X, y, sample_weight)\n",
      "  File \"C:\\ProgramData\\Anaconda3\\lib\\site-packages\\sklearn\\isotonic.py\", line 252, in _build_y\n",
      "    self._check_input_data_shape(X)\n",
      "  File \"C:\\ProgramData\\Anaconda3\\lib\\site-packages\\sklearn\\isotonic.py\", line 231, in _check_input_data_shape\n",
      "    raise ValueError(msg)\n",
      "ValueError: Isotonic regression input X should be a 1d array or 2d array with 1 feature\n",
      "\n",
      "  warnings.warn(\"Estimator fit failed. The score on this train-test\"\n",
      "C:\\ProgramData\\Anaconda3\\lib\\site-packages\\sklearn\\model_selection\\_validation.py:615: FitFailedWarning: Estimator fit failed. The score on this train-test partition for these parameters will be set to nan. Details: \n",
      "Traceback (most recent call last):\n",
      "  File \"C:\\ProgramData\\Anaconda3\\lib\\site-packages\\sklearn\\model_selection\\_validation.py\", line 598, in _fit_and_score\n",
      "    estimator.fit(X_train, y_train, **fit_params)\n",
      "  File \"C:\\ProgramData\\Anaconda3\\lib\\site-packages\\sklearn\\isotonic.py\", line 332, in fit\n",
      "    X, y = self._build_y(X, y, sample_weight)\n",
      "  File \"C:\\ProgramData\\Anaconda3\\lib\\site-packages\\sklearn\\isotonic.py\", line 252, in _build_y\n",
      "    self._check_input_data_shape(X)\n",
      "  File \"C:\\ProgramData\\Anaconda3\\lib\\site-packages\\sklearn\\isotonic.py\", line 231, in _check_input_data_shape\n",
      "    raise ValueError(msg)\n",
      "ValueError: Isotonic regression input X should be a 1d array or 2d array with 1 feature\n",
      "\n",
      "  warnings.warn(\"Estimator fit failed. The score on this train-test\"\n",
      "C:\\ProgramData\\Anaconda3\\lib\\site-packages\\sklearn\\model_selection\\_validation.py:615: FitFailedWarning: Estimator fit failed. The score on this train-test partition for these parameters will be set to nan. Details: \n",
      "Traceback (most recent call last):\n",
      "  File \"C:\\ProgramData\\Anaconda3\\lib\\site-packages\\sklearn\\model_selection\\_validation.py\", line 598, in _fit_and_score\n",
      "    estimator.fit(X_train, y_train, **fit_params)\n",
      "  File \"C:\\ProgramData\\Anaconda3\\lib\\site-packages\\sklearn\\isotonic.py\", line 332, in fit\n",
      "    X, y = self._build_y(X, y, sample_weight)\n",
      "  File \"C:\\ProgramData\\Anaconda3\\lib\\site-packages\\sklearn\\isotonic.py\", line 252, in _build_y\n",
      "    self._check_input_data_shape(X)\n",
      "  File \"C:\\ProgramData\\Anaconda3\\lib\\site-packages\\sklearn\\isotonic.py\", line 231, in _check_input_data_shape\n",
      "    raise ValueError(msg)\n",
      "ValueError: Isotonic regression input X should be a 1d array or 2d array with 1 feature\n",
      "\n",
      "  warnings.warn(\"Estimator fit failed. The score on this train-test\"\n",
      "C:\\ProgramData\\Anaconda3\\lib\\site-packages\\sklearn\\model_selection\\_validation.py:615: FitFailedWarning: Estimator fit failed. The score on this train-test partition for these parameters will be set to nan. Details: \n",
      "Traceback (most recent call last):\n",
      "  File \"C:\\ProgramData\\Anaconda3\\lib\\site-packages\\sklearn\\model_selection\\_validation.py\", line 598, in _fit_and_score\n",
      "    estimator.fit(X_train, y_train, **fit_params)\n",
      "  File \"C:\\ProgramData\\Anaconda3\\lib\\site-packages\\sklearn\\isotonic.py\", line 332, in fit\n",
      "    X, y = self._build_y(X, y, sample_weight)\n",
      "  File \"C:\\ProgramData\\Anaconda3\\lib\\site-packages\\sklearn\\isotonic.py\", line 252, in _build_y\n",
      "    self._check_input_data_shape(X)\n",
      "  File \"C:\\ProgramData\\Anaconda3\\lib\\site-packages\\sklearn\\isotonic.py\", line 231, in _check_input_data_shape\n",
      "    raise ValueError(msg)\n",
      "ValueError: Isotonic regression input X should be a 1d array or 2d array with 1 feature\n",
      "\n",
      "  warnings.warn(\"Estimator fit failed. The score on this train-test\"\n",
      "C:\\ProgramData\\Anaconda3\\lib\\site-packages\\sklearn\\model_selection\\_validation.py:615: FitFailedWarning: Estimator fit failed. The score on this train-test partition for these parameters will be set to nan. Details: \n",
      "Traceback (most recent call last):\n",
      "  File \"C:\\ProgramData\\Anaconda3\\lib\\site-packages\\sklearn\\model_selection\\_validation.py\", line 598, in _fit_and_score\n",
      "    estimator.fit(X_train, y_train, **fit_params)\n",
      "  File \"C:\\ProgramData\\Anaconda3\\lib\\site-packages\\sklearn\\isotonic.py\", line 332, in fit\n",
      "    X, y = self._build_y(X, y, sample_weight)\n",
      "  File \"C:\\ProgramData\\Anaconda3\\lib\\site-packages\\sklearn\\isotonic.py\", line 252, in _build_y\n",
      "    self._check_input_data_shape(X)\n",
      "  File \"C:\\ProgramData\\Anaconda3\\lib\\site-packages\\sklearn\\isotonic.py\", line 231, in _check_input_data_shape\n",
      "    raise ValueError(msg)\n",
      "ValueError: Isotonic regression input X should be a 1d array or 2d array with 1 feature\n",
      "\n",
      "  warnings.warn(\"Estimator fit failed. The score on this train-test\"\n",
      "C:\\ProgramData\\Anaconda3\\lib\\site-packages\\sklearn\\model_selection\\_validation.py:615: FitFailedWarning: Estimator fit failed. The score on this train-test partition for these parameters will be set to nan. Details: \n",
      "Traceback (most recent call last):\n",
      "  File \"C:\\ProgramData\\Anaconda3\\lib\\site-packages\\sklearn\\model_selection\\_validation.py\", line 598, in _fit_and_score\n",
      "    estimator.fit(X_train, y_train, **fit_params)\n",
      "  File \"C:\\ProgramData\\Anaconda3\\lib\\site-packages\\sklearn\\isotonic.py\", line 332, in fit\n",
      "    X, y = self._build_y(X, y, sample_weight)\n",
      "  File \"C:\\ProgramData\\Anaconda3\\lib\\site-packages\\sklearn\\isotonic.py\", line 252, in _build_y\n",
      "    self._check_input_data_shape(X)\n",
      "  File \"C:\\ProgramData\\Anaconda3\\lib\\site-packages\\sklearn\\isotonic.py\", line 231, in _check_input_data_shape\n",
      "    raise ValueError(msg)\n",
      "ValueError: Isotonic regression input X should be a 1d array or 2d array with 1 feature\n",
      "\n",
      "  warnings.warn(\"Estimator fit failed. The score on this train-test\"\n",
      "C:\\ProgramData\\Anaconda3\\lib\\site-packages\\sklearn\\model_selection\\_validation.py:615: FitFailedWarning: Estimator fit failed. The score on this train-test partition for these parameters will be set to nan. Details: \n",
      "Traceback (most recent call last):\n",
      "  File \"C:\\ProgramData\\Anaconda3\\lib\\site-packages\\sklearn\\model_selection\\_validation.py\", line 598, in _fit_and_score\n",
      "    estimator.fit(X_train, y_train, **fit_params)\n",
      "  File \"C:\\ProgramData\\Anaconda3\\lib\\site-packages\\sklearn\\isotonic.py\", line 332, in fit\n",
      "    X, y = self._build_y(X, y, sample_weight)\n",
      "  File \"C:\\ProgramData\\Anaconda3\\lib\\site-packages\\sklearn\\isotonic.py\", line 252, in _build_y\n",
      "    self._check_input_data_shape(X)\n",
      "  File \"C:\\ProgramData\\Anaconda3\\lib\\site-packages\\sklearn\\isotonic.py\", line 231, in _check_input_data_shape\n",
      "    raise ValueError(msg)\n",
      "ValueError: Isotonic regression input X should be a 1d array or 2d array with 1 feature\n",
      "\n",
      "  warnings.warn(\"Estimator fit failed. The score on this train-test\"\n"
     ]
    }
   ],
   "source": [
    "models_score=[]\n",
    "for model in models:\n",
    "    print(\"Training model : \",models[model][0])\n",
    "    score=test_model(models[model][1],X_train,Y_train)\n",
    "    print(\"Score of model : \",score)\n",
    "    models_score.append([models[model][0],score[0]])"
   ]
  },
  {
   "cell_type": "code",
   "execution_count": 113,
   "id": "f8ed1518",
   "metadata": {},
   "outputs": [
    {
     "data": {
      "text/plain": [
       "GradientBoostingRegressor(random_state=0)"
      ]
     },
     "execution_count": 113,
     "metadata": {},
     "output_type": "execute_result"
    }
   ],
   "source": [
    "from sklearn.ensemble import GradientBoostingRegressor\n",
    "reg = GradientBoostingRegressor(random_state=0)\n",
    "reg.fit(X_train, Y_train)"
   ]
  },
  {
   "cell_type": "code",
   "execution_count": 114,
   "id": "8d4571e5",
   "metadata": {},
   "outputs": [
    {
     "data": {
      "text/plain": [
       "array([155398.3068561])"
      ]
     },
     "execution_count": 114,
     "metadata": {},
     "output_type": "execute_result"
    }
   ],
   "source": [
    "reg.predict(X_test[1:2])"
   ]
  }
 ],
 "metadata": {
  "kernelspec": {
   "display_name": "Python 3 (ipykernel)",
   "language": "python",
   "name": "python3"
  },
  "language_info": {
   "codemirror_mode": {
    "name": "ipython",
    "version": 3
   },
   "file_extension": ".py",
   "mimetype": "text/x-python",
   "name": "python",
   "nbconvert_exporter": "python",
   "pygments_lexer": "ipython3",
   "version": "3.9.7"
  }
 },
 "nbformat": 4,
 "nbformat_minor": 5
}
